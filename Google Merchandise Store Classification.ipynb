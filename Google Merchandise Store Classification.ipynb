{
  "nbformat": 4,
  "nbformat_minor": 0,
  "metadata": {
    "kernelspec": {
      "display_name": "Python 3",
      "language": "python",
      "name": "python3"
    },
    "language_info": {
      "codemirror_mode": {
        "name": "ipython",
        "version": 3
      },
      "file_extension": ".py",
      "mimetype": "text/x-python",
      "name": "python",
      "nbconvert_exporter": "python",
      "pygments_lexer": "ipython3",
      "version": "3.7.6"
    },
    "colab": {
      "name": "Challenge_Sarochar-Copy1.ipynb",
      "provenance": [],
      "include_colab_link": true
    }
  },
  "cells": [
    {
      "cell_type": "markdown",
      "metadata": {
        "id": "view-in-github",
        "colab_type": "text"
      },
      "source": [
        "<a href=\"https://colab.research.google.com/github/NuriaSarochar/Python/blob/main/Google%20Merchandise%20Store%20Classification.ipynb\" target=\"_parent\"><img src=\"https://colab.research.google.com/assets/colab-badge.svg\" alt=\"Open In Colab\"/></a>"
      ]
    },
    {
      "cell_type": "markdown",
      "metadata": {
        "id": "09dTELQUmHed"
      },
      "source": [
        "# Google Analytics Dataframe Classification\n",
        "\n",
        "This is a sample of the dataset of [Google Analytics from the Google Merchandise Store](https://support.google.com/analytics/answer/7586738?hl=en&ref_topic=3416089#zippy=%2Cin-this-article). Its columns have information on the activity on this site of different users.\n",
        "* *fullVisitorId*: The unique visitor ID.\n",
        "* *visitNumber*: The session number for this user. If this is the first session, then this is set to 1.\n",
        "* *date*: The date of the session in YYYYMMDD format.\n",
        "* *bounces*: For a bounced session, the value is 1, otherwise it is null. A bounced session is when there were no interaction from the user.\n",
        "* *hits*: Total number of hits within the session.\n",
        "* *pageviews*: \tTotal number of pageviews within the session.\n",
        "* *timeOnSite*: Total time of the session expressed in seconds.\n",
        "* *transactionRevenue*: Total transaction revenue.\n",
        "* *transactions*: Total number of ecommerce transactions within the session.\n",
        "* *source*: The source of the traffic source. Could be the name of the search engine, the referring hostname, or a value of the utm_source URL parameter.\n",
        "* *channelGrouping*: The Default Channel Group associated with an end user's session for this View. Groups sources into channels.\n",
        "* *browser*: The browser used (e.g., \"Chrome\" or \"Firefox\").\n",
        "* *deviceCategory*: The type of device (Mobile, Tablet, Desktop).\n",
        "* *country*: The country from which sessions originated, based on IP address.\n",
        "* *city*: Users' city, derived from their IP addresses or Geographical IDs.\n",
        "\n",
        "In this proyect, it is going to be created a model that predicts wich user is going to buy on the page according with its interaction with the site."
      ]
    },
    {
      "cell_type": "markdown",
      "metadata": {
        "id": "0nhOdce4Mi4X"
      },
      "source": [
        "# Data Reading and Imports"
      ]
    },
    {
      "cell_type": "code",
      "metadata": {
        "id": "v_Dec_xxMi4b"
      },
      "source": [
        "import pandas as pd\n",
        "import matplotlib.pyplot as plt\n",
        "import numpy as np\n",
        "import seaborn as sns\n",
        "\n",
        "from sklearn.model_selection import train_test_split\n",
        "from sklearn.metrics import f1_score, ConfusionMatrixDisplay, precision_score, \\\n",
        "recall_score\n",
        "\n",
        "from sklearn.linear_model import LogisticRegression\n",
        "from sklearn.ensemble import GradientBoostingClassifier, IsolationForest\n",
        "from sklearn.utils.class_weight import compute_class_weight\n",
        "\n",
        "from sklearn.preprocessing import StandardScaler, OrdinalEncoder\n",
        "from sklearn.compose import ColumnTransformer\n",
        "\n",
        "from imblearn.under_sampling import RandomUnderSampler\n",
        "from imblearn.over_sampling import SMOTE"
      ],
      "execution_count": 1,
      "outputs": []
    },
    {
      "cell_type": "code",
      "metadata": {
        "colab": {
          "base_uri": "https://localhost:8080/"
        },
        "id": "tEDcosk7Mi4d",
        "outputId": "a63053e5-31f7-4af4-8b44-1ed0fde6ff78"
      },
      "source": [
        "#Data is saved in google drive\n",
        "\n",
        "url = 'https://drive.google.com/uc?id=1fobWNNFDuAWdRrDcDkpDxhkRH-q99Yz6'\n",
        "data = pd.read_csv(url, parse_dates=['date'])"
      ],
      "execution_count": 2,
      "outputs": [
        {
          "output_type": "stream",
          "name": "stderr",
          "text": [
            "/usr/local/lib/python3.7/dist-packages/IPython/core/interactiveshell.py:2718: DtypeWarning: Columns (0) have mixed types.Specify dtype option on import or set low_memory=False.\n",
            "  interactivity=interactivity, compiler=compiler, result=result)\n"
          ]
        }
      ]
    },
    {
      "cell_type": "markdown",
      "metadata": {
        "id": "dLauvfPSMi4e"
      },
      "source": [
        "# Exploratory Data Analysis"
      ]
    },
    {
      "cell_type": "code",
      "metadata": {
        "id": "BlOkCW_hMi4e"
      },
      "source": [
        "def plot_labels(xlabel, ylabel, title):\n",
        "    #Puts labels and title in the plots\n",
        "    plt.xlabel(xlabel)\n",
        "    plt.ylabel(ylabel)\n",
        "    plt.title(title)\n",
        "    plt.show()"
      ],
      "execution_count": 3,
      "outputs": []
    },
    {
      "cell_type": "code",
      "metadata": {
        "id": "-v3OtmNsoDln"
      },
      "source": [
        "def group_cat(data, column):\n",
        "  #Groups dataframe by some categorical column \n",
        "  # orders by frequency of appearence\n",
        "  # and shows the firts 10 more usual categories.\n",
        "  categories, times = np.unique(data[column], return_counts = True)\n",
        "  group= pd.DataFrame({column: categories,\n",
        "                              'count': times}).sort_values('count', ascending = False)\n",
        "  group['percentage'] = group['count'] / data.shape[0]\n",
        "\n",
        "  print(f'There are {group.shape[0]} different {column}.')\n",
        "  print('***'*10)\n",
        "  print(group.head(10))"
      ],
      "execution_count": 4,
      "outputs": []
    },
    {
      "cell_type": "code",
      "metadata": {
        "colab": {
          "base_uri": "https://localhost:8080/"
        },
        "id": "6HOZCVGbMi4f",
        "outputId": "1e3aa2ca-9ab1-4aaf-ee3b-10a3c54d0108"
      },
      "source": [
        "print(f'El dataset cuenta con {data.shape[0]} registros y {data.shape[1]} columnas.')\n",
        "data.info()#Table to see missing values and data type"
      ],
      "execution_count": 5,
      "outputs": [
        {
          "output_type": "stream",
          "name": "stdout",
          "text": [
            "El dataset cuenta con 392892 registros y 15 columnas.\n",
            "<class 'pandas.core.frame.DataFrame'>\n",
            "RangeIndex: 392892 entries, 0 to 392891\n",
            "Data columns (total 15 columns):\n",
            " #   Column              Non-Null Count   Dtype         \n",
            "---  ------              --------------   -----         \n",
            " 0   fullVisitorID       392892 non-null  object        \n",
            " 1   visitNumber         392892 non-null  int64         \n",
            " 2   date                392892 non-null  datetime64[ns]\n",
            " 3   bounces             195964 non-null  float64       \n",
            " 4   hits                392892 non-null  int64         \n",
            " 5   pageviews           392856 non-null  float64       \n",
            " 6   timeOnSite          196399 non-null  float64       \n",
            " 7   transactionRevenue  5277 non-null    float64       \n",
            " 8   transactions        5277 non-null    float64       \n",
            " 9   source              392892 non-null  object        \n",
            " 10  channelGrouping     392892 non-null  object        \n",
            " 11  browser             392892 non-null  object        \n",
            " 12  deviceCategory      392892 non-null  object        \n",
            " 13  country             392892 non-null  object        \n",
            " 14  city                392892 non-null  object        \n",
            "dtypes: datetime64[ns](1), float64(5), int64(2), object(7)\n",
            "memory usage: 45.0+ MB\n"
          ]
        }
      ]
    },
    {
      "cell_type": "code",
      "metadata": {
        "colab": {
          "base_uri": "https://localhost:8080/",
          "height": 300
        },
        "id": "wbPZiTmajlcg",
        "outputId": "0351d262-c6ee-4183-c42d-960685fd721a"
      },
      "source": [
        "data.describe()"
      ],
      "execution_count": 6,
      "outputs": [
        {
          "output_type": "execute_result",
          "data": {
            "text/html": [
              "<div>\n",
              "<style scoped>\n",
              "    .dataframe tbody tr th:only-of-type {\n",
              "        vertical-align: middle;\n",
              "    }\n",
              "\n",
              "    .dataframe tbody tr th {\n",
              "        vertical-align: top;\n",
              "    }\n",
              "\n",
              "    .dataframe thead th {\n",
              "        text-align: right;\n",
              "    }\n",
              "</style>\n",
              "<table border=\"1\" class=\"dataframe\">\n",
              "  <thead>\n",
              "    <tr style=\"text-align: right;\">\n",
              "      <th></th>\n",
              "      <th>visitNumber</th>\n",
              "      <th>bounces</th>\n",
              "      <th>hits</th>\n",
              "      <th>pageviews</th>\n",
              "      <th>timeOnSite</th>\n",
              "      <th>transactionRevenue</th>\n",
              "      <th>transactions</th>\n",
              "    </tr>\n",
              "  </thead>\n",
              "  <tbody>\n",
              "    <tr>\n",
              "      <th>count</th>\n",
              "      <td>392892.000000</td>\n",
              "      <td>195964.0</td>\n",
              "      <td>392892.000000</td>\n",
              "      <td>392856.000000</td>\n",
              "      <td>196399.000000</td>\n",
              "      <td>5277.000000</td>\n",
              "      <td>5277.000000</td>\n",
              "    </tr>\n",
              "    <tr>\n",
              "      <th>mean</th>\n",
              "      <td>2.361198</td>\n",
              "      <td>1.0</td>\n",
              "      <td>4.414065</td>\n",
              "      <td>3.771015</td>\n",
              "      <td>276.837127</td>\n",
              "      <td>162.838217</td>\n",
              "      <td>1.047754</td>\n",
              "    </tr>\n",
              "    <tr>\n",
              "      <th>std</th>\n",
              "      <td>10.158865</td>\n",
              "      <td>0.0</td>\n",
              "      <td>8.555069</td>\n",
              "      <td>6.414908</td>\n",
              "      <td>485.765241</td>\n",
              "      <td>898.877951</td>\n",
              "      <td>0.571294</td>\n",
              "    </tr>\n",
              "    <tr>\n",
              "      <th>min</th>\n",
              "      <td>1.000000</td>\n",
              "      <td>1.0</td>\n",
              "      <td>1.000000</td>\n",
              "      <td>1.000000</td>\n",
              "      <td>1.000000</td>\n",
              "      <td>2.200000</td>\n",
              "      <td>1.000000</td>\n",
              "    </tr>\n",
              "    <tr>\n",
              "      <th>25%</th>\n",
              "      <td>1.000000</td>\n",
              "      <td>1.0</td>\n",
              "      <td>1.000000</td>\n",
              "      <td>1.000000</td>\n",
              "      <td>33.000000</td>\n",
              "      <td>29.180000</td>\n",
              "      <td>1.000000</td>\n",
              "    </tr>\n",
              "    <tr>\n",
              "      <th>50%</th>\n",
              "      <td>1.000000</td>\n",
              "      <td>1.0</td>\n",
              "      <td>2.000000</td>\n",
              "      <td>1.000000</td>\n",
              "      <td>94.000000</td>\n",
              "      <td>53.950000</td>\n",
              "      <td>1.000000</td>\n",
              "    </tr>\n",
              "    <tr>\n",
              "      <th>75%</th>\n",
              "      <td>1.000000</td>\n",
              "      <td>1.0</td>\n",
              "      <td>4.000000</td>\n",
              "      <td>4.000000</td>\n",
              "      <td>287.000000</td>\n",
              "      <td>114.530000</td>\n",
              "      <td>1.000000</td>\n",
              "    </tr>\n",
              "    <tr>\n",
              "      <th>max</th>\n",
              "      <td>389.000000</td>\n",
              "      <td>1.0</td>\n",
              "      <td>500.000000</td>\n",
              "      <td>466.000000</td>\n",
              "      <td>12136.000000</td>\n",
              "      <td>47082.060000</td>\n",
              "      <td>25.000000</td>\n",
              "    </tr>\n",
              "  </tbody>\n",
              "</table>\n",
              "</div>"
            ],
            "text/plain": [
              "         visitNumber   bounces  ...  transactionRevenue  transactions\n",
              "count  392892.000000  195964.0  ...         5277.000000   5277.000000\n",
              "mean        2.361198       1.0  ...          162.838217      1.047754\n",
              "std        10.158865       0.0  ...          898.877951      0.571294\n",
              "min         1.000000       1.0  ...            2.200000      1.000000\n",
              "25%         1.000000       1.0  ...           29.180000      1.000000\n",
              "50%         1.000000       1.0  ...           53.950000      1.000000\n",
              "75%         1.000000       1.0  ...          114.530000      1.000000\n",
              "max       389.000000       1.0  ...        47082.060000     25.000000\n",
              "\n",
              "[8 rows x 7 columns]"
            ]
          },
          "metadata": {},
          "execution_count": 6
        }
      ]
    },
    {
      "cell_type": "code",
      "metadata": {
        "id": "v35w2a73KXeT"
      },
      "source": [
        "# Generates a new column with 0 if there weren't a transaction (user didn't buy)\n",
        "# and 1 if the user did.\n",
        "data['bought'] = np.where(data['transactions'].isnull(), 0,1)"
      ],
      "execution_count": 7,
      "outputs": []
    },
    {
      "cell_type": "markdown",
      "metadata": {
        "id": "p6QvPOK0kR8A"
      },
      "source": [
        "### Numerical Features"
      ]
    },
    {
      "cell_type": "markdown",
      "metadata": {
        "id": "m26eoXOnkvVd"
      },
      "source": [
        "#### Visit Number"
      ]
    },
    {
      "cell_type": "code",
      "metadata": {
        "colab": {
          "base_uri": "https://localhost:8080/",
          "height": 295
        },
        "id": "VG6ncz3fkxbU",
        "outputId": "16230e2c-c782-4bdd-912b-6a1e65464ec6"
      },
      "source": [
        "plt.hist(data['visitNumber'],bins = 50)\n",
        "plot_labels('Visit Number','','Histogram for the number of visits')"
      ],
      "execution_count": 8,
      "outputs": [
        {
          "output_type": "display_data",
          "data": {
            "image/png": "[encoded data removed]",
            "text/plain": [
              "<Figure size 432x288 with 1 Axes>"
            ]
          },
          "metadata": {
            "needs_background": "light"
          }
        }
      ]
    },
    {
      "cell_type": "code",
      "metadata": {
        "colab": {
          "base_uri": "https://localhost:8080/",
          "height": 295
        },
        "id": "bdOXqspolBcy",
        "outputId": "61a02665-dc19-42dd-c660-f79d85177825"
      },
      "source": [
        "lower_visit_number = data[data['visitNumber'] < 32]\n",
        "\n",
        "plt.hist(lower_visit_number['visitNumber'],bins = 50)\n",
        "plot_labels('Visit Number','','Histogram for the lower number of visits')"
      ],
      "execution_count": 9,
      "outputs": [
        {
          "output_type": "display_data",
          "data": {
            "image/png": "[encoded data removed]",
            "text/plain": [
              "<Figure size 432x288 with 1 Axes>"
            ]
          },
          "metadata": {
            "needs_background": "light"
          }
        }
      ]
    },
    {
      "cell_type": "code",
      "metadata": {
        "colab": {
          "base_uri": "https://localhost:8080/"
        },
        "id": "hg5n5fzUlaR1",
        "outputId": "99432440-d5ad-4155-e665-7da1e49878e0"
      },
      "source": [
        "# What happends with the number of visits bewteen 20 and the max?\n",
        "num_buyers_many_visits = data[(data['visitNumber'] > 32)  & (data['transactions'] > 0)].shape[0]\n",
        "print(f'There are {num_buyers_many_visits} users with nummber of visits greater than 32 that were buyers.')"
      ],
      "execution_count": 10,
      "outputs": [
        {
          "output_type": "stream",
          "name": "stdout",
          "text": [
            "There are 66 users with nummber of visits greater than 32 that were buyers.\n"
          ]
        }
      ]
    },
    {
      "cell_type": "markdown",
      "metadata": {
        "id": "2v0F-HWln-SV"
      },
      "source": [
        "Most of the users visit 1 time the site, but even less users visit more than 32 times (the mean plus two standard deviations), 66 of those lasts made a transactions (are buyers)."
      ]
    },
    {
      "cell_type": "markdown",
      "metadata": {
        "id": "_87DlnK7obKd"
      },
      "source": [
        "#### Hits"
      ]
    },
    {
      "cell_type": "code",
      "metadata": {
        "colab": {
          "base_uri": "https://localhost:8080/",
          "height": 295
        },
        "id": "b5XcXwAtohMr",
        "outputId": "7d2d9dad-dc34-42b0-ebd0-c70cad6f5c7d"
      },
      "source": [
        "plt.hist(data['hits'],bins = 50)\n",
        "plot_labels('Hits','','Histogram for the number of hits')"
      ],
      "execution_count": 11,
      "outputs": [
        {
          "output_type": "display_data",
          "data": {
            "image/png": "[encoded data removed]",
            "text/plain": [
              "<Figure size 432x288 with 1 Axes>"
            ]
          },
          "metadata": {
            "needs_background": "light"
          }
        }
      ]
    },
    {
      "cell_type": "code",
      "metadata": {
        "colab": {
          "base_uri": "https://localhost:8080/",
          "height": 295
        },
        "id": "XHaQx5t5vcih",
        "outputId": "9b2c5406-543a-49af-a32c-1df5454c4013"
      },
      "source": [
        "lower_hits_number = data[data['hits'] < 40]\n",
        "\n",
        "plt.hist(lower_hits_number['hits'],bins = 50)\n",
        "plot_labels('Hits Number','','Histogram for the lower number of hits')"
      ],
      "execution_count": 12,
      "outputs": [
        {
          "output_type": "display_data",
          "data": {
            "image/png": "[encoded data removed]",
            "text/plain": [
              "<Figure size 432x288 with 1 Axes>"
            ]
          },
          "metadata": {
            "needs_background": "light"
          }
        }
      ]
    },
    {
      "cell_type": "code",
      "metadata": {
        "colab": {
          "base_uri": "https://localhost:8080/"
        },
        "id": "xGlElE-yv_lc",
        "outputId": "93aa1b50-45de-41ec-b9c5-b847ce81b446"
      },
      "source": [
        "# What happends with the number of hits greater than 40?\n",
        "num_many_hits = data[(data['hits'] > 40)].shape[0]\n",
        "print(f'There are {num_many_hits} users with number of hits greater than 40.')\n",
        "num_buyers_many_hits = data[(data['hits'] > 40)  & (data['transactions'] > 0)].shape[0]\n",
        "print(f'There are {num_buyers_many_hits} users with number of hits greater than 40 that were buyers.')\n",
        "num_buyers_little_hits = data[(data['hits'] < 40)  & (data['transactions'].isnull())].shape[0]\n",
        "print(f'There are {num_buyers_little_hits} users with number of hits less than 40 that were not buyers.')"
      ],
      "execution_count": 13,
      "outputs": [
        {
          "output_type": "stream",
          "name": "stdout",
          "text": [
            "There are 3853 users with number of hits greater than 40.\n",
            "There are 1244 users with number of hits greater than 40 that were buyers.\n",
            "There are 384810 users with number of hits less than 40 that were not buyers.\n"
          ]
        }
      ]
    },
    {
      "cell_type": "markdown",
      "metadata": {
        "id": "tpsEbIEiwSdj"
      },
      "source": [
        "Most users hits less times, less interacction with the page. But lots of the ones that hits many times are buyers, while most of the ones that hits less times aren't buyers."
      ]
    },
    {
      "cell_type": "markdown",
      "metadata": {
        "id": "Q2u9I8AoxRF5"
      },
      "source": [
        "#### Page Views"
      ]
    },
    {
      "cell_type": "code",
      "metadata": {
        "colab": {
          "base_uri": "https://localhost:8080/",
          "height": 295
        },
        "id": "6cPL3SBVxV7x",
        "outputId": "d198096c-0d7d-4071-d69f-520f17441238"
      },
      "source": [
        "plt.hist(data['pageviews'],bins = 50)\n",
        "plot_labels('Page Views','','Histogram for the number of page views')"
      ],
      "execution_count": 14,
      "outputs": [
        {
          "output_type": "display_data",
          "data": {
            "image/png": "[encoded data removed]",
            "text/plain": [
              "<Figure size 432x288 with 1 Axes>"
            ]
          },
          "metadata": {
            "needs_background": "light"
          }
        }
      ]
    },
    {
      "cell_type": "code",
      "metadata": {
        "colab": {
          "base_uri": "https://localhost:8080/",
          "height": 295
        },
        "id": "hQ3Axo1sxh4R",
        "outputId": "7d398c2f-02ea-4ac9-a9d4-9b9f5a621e6a"
      },
      "source": [
        "lower_page_views_number = data[data['pageviews'] < 31]\n",
        "\n",
        "plt.hist(lower_page_views_number['pageviews'],bins = 50)\n",
        "plot_labels('Page Views','','Histogram for the lower number of page views')"
      ],
      "execution_count": 15,
      "outputs": [
        {
          "output_type": "display_data",
          "data": {
            "image/png": "[encoded data removed]",
            "text/plain": [
              "<Figure size 432x288 with 1 Axes>"
            ]
          },
          "metadata": {
            "needs_background": "light"
          }
        }
      ]
    },
    {
      "cell_type": "code",
      "metadata": {
        "colab": {
          "base_uri": "https://localhost:8080/"
        },
        "id": "WhHZgfhkxh4S",
        "outputId": "4dabec6e-1fdd-48f3-cd88-b369aac1e8f0"
      },
      "source": [
        "# What happends with the number of page views greater than 31?\n",
        "num_many_page_views = data[(data['pageviews'] > 31)].shape[0]\n",
        "print(f'There are {num_many_page_views} users with number of page views greater than 31.')\n",
        "num_buyers_many_page_views = data[(data['pageviews'] > 31)  & (data['transactions'] > 0)].shape[0]\n",
        "print(f'There are {num_buyers_many_page_views} users with number of page views greater than 31 that were buyers.')\n",
        "num_buyers_little_page_views = data[(data['pageviews'] < 31)  & (data['transactions'].isnull())].shape[0]\n",
        "print(f'There are {num_buyers_little_page_views} users with number of page views less than 31 that were not buyers.')"
      ],
      "execution_count": 16,
      "outputs": [
        {
          "output_type": "stream",
          "name": "stdout",
          "text": [
            "There are 3567 users with number of page views greater than 31.\n",
            "There are 1238 users with number of page views greater than 31 that were buyers.\n",
            "There are 385019 users with number of page views less than 31 that were not buyers.\n"
          ]
        }
      ]
    },
    {
      "cell_type": "markdown",
      "metadata": {
        "id": "hLEbYK8Cxh4T"
      },
      "source": [
        "Most users view pages less times. But lots of the ones that view many pages are buyers, while most of the ones that view less pages aren't buyers."
      ]
    },
    {
      "cell_type": "markdown",
      "metadata": {
        "id": "u-663yuVz7yn"
      },
      "source": [
        "#### Time on Site"
      ]
    },
    {
      "cell_type": "code",
      "metadata": {
        "colab": {
          "base_uri": "https://localhost:8080/",
          "height": 295
        },
        "id": "lDe-bmHpz7yn",
        "outputId": "cb0d94b0-a335-49e1-8e16-b838f64d785b"
      },
      "source": [
        "plt.hist(data['timeOnSite'],bins = 50)\n",
        "plot_labels('Time on Site','','Histogram for the time on site')"
      ],
      "execution_count": 17,
      "outputs": [
        {
          "output_type": "display_data",
          "data": {
            "image/png": "[encoded data removed]",
            "text/plain": [
              "<Figure size 432x288 with 1 Axes>"
            ]
          },
          "metadata": {
            "needs_background": "light"
          }
        }
      ]
    },
    {
      "cell_type": "code",
      "metadata": {
        "colab": {
          "base_uri": "https://localhost:8080/",
          "height": 295
        },
        "id": "fHTZSI1Sz7yo",
        "outputId": "b792e728-115d-4eab-d3ba-1ddd1e596df8"
      },
      "source": [
        "lower_time_on_site = data[data['timeOnSite'] < 1653]\n",
        "\n",
        "plt.hist(lower_time_on_site['timeOnSite'],bins = 50)\n",
        "plot_labels('Time on Site','','Histogram for the lower time on site')"
      ],
      "execution_count": 18,
      "outputs": [
        {
          "output_type": "display_data",
          "data": {
            "image/png": "[encoded data removed]",
            "text/plain": [
              "<Figure size 432x288 with 1 Axes>"
            ]
          },
          "metadata": {
            "needs_background": "light"
          }
        }
      ]
    },
    {
      "cell_type": "code",
      "metadata": {
        "colab": {
          "base_uri": "https://localhost:8080/"
        },
        "id": "DejsgH0Yz7yo",
        "outputId": "bfa167ea-3394-42b1-d87a-0d1701914eac"
      },
      "source": [
        "# What happends with time on site longer than 1653? (27,55 minutes)\n",
        "num_long_time_on_site = data[(data['timeOnSite'] > 1653)].shape[0]\n",
        "print(f'There are {num_long_time_on_site} users with time on site greater than {1653/60} minutes.')\n",
        "num_buyers_long_time_on_site = data[(data['timeOnSite'] > 1653)  & (data['transactions'] > 0)].shape[0]\n",
        "print(f'There are {num_buyers_long_time_on_site} users with time on site longer than {1653/60} minutes that were buyers.')\n",
        "num_buyers_short_time_on_site = data[(data['timeOnSite'] < 1653)  & (data['transactions'].isnull())].shape[0]\n",
        "print(f'There are {num_buyers_short_time_on_site} users with time on site shorter than {1653/60} minutes that were not buyers.')"
      ],
      "execution_count": 19,
      "outputs": [
        {
          "output_type": "stream",
          "name": "stdout",
          "text": [
            "There are 5230 users with time on site greater than 27.55 minutes.\n",
            "There are 834 users with time on site longer than 27.55 minutes that were buyers.\n",
            "There are 186714 users with time on site shorter than 27.55 minutes that were not buyers.\n"
          ]
        }
      ]
    },
    {
      "cell_type": "markdown",
      "metadata": {
        "id": "rssy3EINz7yo"
      },
      "source": [
        "Most users spend less time on site. But lots of the ones that spend more time are buyers, while most of the ones that doesn't, aren't buyers."
      ]
    },
    {
      "cell_type": "markdown",
      "metadata": {
        "id": "5lO5iZg3knmW"
      },
      "source": [
        "#### Transactions Revenue"
      ]
    },
    {
      "cell_type": "code",
      "metadata": {
        "colab": {
          "base_uri": "https://localhost:8080/",
          "height": 295
        },
        "id": "_tfC-4ABkZKt",
        "outputId": "c11cdcc9-ee05-45ab-fa12-055b1644e2e4"
      },
      "source": [
        "#Histogram for the transactions\n",
        "plt.hist(data['transactionRevenue'],bins = 50)\n",
        "plot_labels('Transaction Revenue','','Histogram for the transactions')"
      ],
      "execution_count": 20,
      "outputs": [
        {
          "output_type": "display_data",
          "data": {
            "image/png": "[encoded data removed]",
            "text/plain": [
              "<Figure size 432x288 with 1 Axes>"
            ]
          },
          "metadata": {
            "needs_background": "light"
          }
        }
      ]
    },
    {
      "cell_type": "code",
      "metadata": {
        "colab": {
          "base_uri": "https://localhost:8080/",
          "height": 295
        },
        "id": "Zb_eb-hrMi4g",
        "outputId": "4bead11b-599f-4983-8f24-2218a2b0bd05"
      },
      "source": [
        "#Histogram for the transactions with lowest revenue (less than 1600)\n",
        "transactions_low = data[data['transactionRevenue'] < 1600]['transactionRevenue']\n",
        "plt.hist(transactions_low,bins = 50)\n",
        "plot_labels('Transaction Revenue','','Histogram for the transactions with lowest revenue (less than 1600)')"
      ],
      "execution_count": 21,
      "outputs": [
        {
          "output_type": "display_data",
          "data": {
            "image/png": "[encoded data removed]",
            "text/plain": [
              "<Figure size 432x288 with 1 Axes>"
            ]
          },
          "metadata": {
            "needs_background": "light"
          }
        }
      ]
    },
    {
      "cell_type": "markdown",
      "metadata": {
        "id": "MlvRdeONLDW1"
      },
      "source": [
        "Small amount of revenues are more common than bigger amounts. But, there are a few with really important amounts."
      ]
    },
    {
      "cell_type": "markdown",
      "metadata": {
        "id": "dn7-7X9aLZji"
      },
      "source": [
        "#### Transactions"
      ]
    },
    {
      "cell_type": "code",
      "metadata": {
        "colab": {
          "base_uri": "https://localhost:8080/",
          "height": 295
        },
        "id": "qN7jlIjALg5P",
        "outputId": "d5ba0632-8ba7-42a0-a05f-67f595205476"
      },
      "source": [
        "#Histogram for the transactions\n",
        "plt.hist(data['transactions'],bins = 50)\n",
        "plot_labels('Number of Transactions','','Histogram for the transactions')"
      ],
      "execution_count": 22,
      "outputs": [
        {
          "output_type": "display_data",
          "data": {
            "image/png": "[encoded data removed]",
            "text/plain": [
              "<Figure size 432x288 with 1 Axes>"
            ]
          },
          "metadata": {
            "needs_background": "light"
          }
        }
      ]
    },
    {
      "cell_type": "code",
      "metadata": {
        "colab": {
          "base_uri": "https://localhost:8080/",
          "height": 295
        },
        "id": "pbnS4ZelLg5Q",
        "outputId": "2d7822e4-62c5-4cb6-db3d-4a7406af1105"
      },
      "source": [
        "\n",
        "num_transactions_low = data[data['transactions'] < 5]\n",
        "plt.hist(num_transactions_low['transactions'],bins = 50)\n",
        "plot_labels('Number of Transactions','','Histogram for number of transactions less than 5')"
      ],
      "execution_count": 23,
      "outputs": [
        {
          "output_type": "display_data",
          "data": {
            "image/png": "[encoded data removed]",
            "text/plain": [
              "<Figure size 432x288 with 1 Axes>"
            ]
          },
          "metadata": {
            "needs_background": "light"
          }
        }
      ]
    },
    {
      "cell_type": "code",
      "metadata": {
        "colab": {
          "base_uri": "https://localhost:8080/"
        },
        "id": "TmcjzEruM6nS",
        "outputId": "fb8eb08d-bf51-4cda-e152-44617a574b53"
      },
      "source": [
        "more_than_one_transaction = data[data['transactions'] > 1].shape[0]\n",
        "print(f'There are {more_than_one_transaction} number of user that made more than one transaction')\n",
        "\n",
        "more_than_two_transaction = data[data['transactions'] > 2].shape[0]\n",
        "print(f'There are {more_than_two_transaction} number of user that made more than two transactions')"
      ],
      "execution_count": 24,
      "outputs": [
        {
          "output_type": "stream",
          "name": "stdout",
          "text": [
            "There are 136 number of user that made more than one transaction\n",
            "There are 26 number of user that made more than two transactions\n"
          ]
        }
      ]
    },
    {
      "cell_type": "markdown",
      "metadata": {
        "id": "l3f8Hec6Mzfa"
      },
      "source": [
        "Most users that bought on the site made only one transaction (bought only one time). Only 136 users bought more than once, and only 26 made more."
      ]
    },
    {
      "cell_type": "markdown",
      "metadata": {
        "id": "KvdNjV3_TAyc"
      },
      "source": [
        "#### Number of transactions and its revenue\n"
      ]
    },
    {
      "cell_type": "code",
      "metadata": {
        "colab": {
          "base_uri": "https://localhost:8080/"
        },
        "id": "CvN5taRvTUNY",
        "outputId": "6086c821-3f38-43a3-a2aa-ce6403cbbc3c"
      },
      "source": [
        "# Buyers are the users that made 1 transaction or more\n",
        "buyers = data[data['transactions'] > 0]\n",
        "print(f'There are {buyers.shape[0]} users that made transactions.')"
      ],
      "execution_count": 25,
      "outputs": [
        {
          "output_type": "stream",
          "name": "stdout",
          "text": [
            "There are 5277 users that made transactions.\n"
          ]
        }
      ]
    },
    {
      "cell_type": "code",
      "metadata": {
        "colab": {
          "base_uri": "https://localhost:8080/",
          "height": 283
        },
        "id": "z4Lr4tzbUZls",
        "outputId": "e9ece29d-51d9-4e35-f1cf-d0a662581094"
      },
      "source": [
        "xi = buyers['transactions']\n",
        "yi = buyers['transactionRevenue']\n",
        "plt.scatter(xi,yi)"
      ],
      "execution_count": 26,
      "outputs": [
        {
          "output_type": "execute_result",
          "data": {
            "text/plain": [
              "<matplotlib.collections.PathCollection at 0x7f5a439defd0>"
            ]
          },
          "metadata": {},
          "execution_count": 26
        },
        {
          "output_type": "display_data",
          "data": {
            "image/png": "[encoded data removed]",
            "text/plain": [
              "<Figure size 432x288 with 1 Axes>"
            ]
          },
          "metadata": {
            "needs_background": "light"
          }
        }
      ]
    },
    {
      "cell_type": "code",
      "metadata": {
        "colab": {
          "base_uri": "https://localhost:8080/",
          "height": 363
        },
        "id": "pjbptIlKTUKz",
        "outputId": "f5bdc24a-d7b6-4fd4-e820-4eae8185efa0"
      },
      "source": [
        "columns_show = ['visitNumber', 'hits', 'pageviews', 'timeOnSite', 'transactionRevenue', 'transactions']\n",
        "\n",
        "buyers[columns_show].sort_values('transactionRevenue', ascending = False).head(10)"
      ],
      "execution_count": 27,
      "outputs": [
        {
          "output_type": "execute_result",
          "data": {
            "text/html": [
              "<div>\n",
              "<style scoped>\n",
              "    .dataframe tbody tr th:only-of-type {\n",
              "        vertical-align: middle;\n",
              "    }\n",
              "\n",
              "    .dataframe tbody tr th {\n",
              "        vertical-align: top;\n",
              "    }\n",
              "\n",
              "    .dataframe thead th {\n",
              "        text-align: right;\n",
              "    }\n",
              "</style>\n",
              "<table border=\"1\" class=\"dataframe\">\n",
              "  <thead>\n",
              "    <tr style=\"text-align: right;\">\n",
              "      <th></th>\n",
              "      <th>visitNumber</th>\n",
              "      <th>hits</th>\n",
              "      <th>pageviews</th>\n",
              "      <th>timeOnSite</th>\n",
              "      <th>transactionRevenue</th>\n",
              "      <th>transactions</th>\n",
              "    </tr>\n",
              "  </thead>\n",
              "  <tbody>\n",
              "    <tr>\n",
              "      <th>157267</th>\n",
              "      <td>243</td>\n",
              "      <td>58</td>\n",
              "      <td>40.0</td>\n",
              "      <td>1367.0</td>\n",
              "      <td>47082.06</td>\n",
              "      <td>2.0</td>\n",
              "    </tr>\n",
              "    <tr>\n",
              "      <th>51298</th>\n",
              "      <td>258</td>\n",
              "      <td>77</td>\n",
              "      <td>56.0</td>\n",
              "      <td>2354.0</td>\n",
              "      <td>32153.82</td>\n",
              "      <td>3.0</td>\n",
              "    </tr>\n",
              "    <tr>\n",
              "      <th>187805</th>\n",
              "      <td>181</td>\n",
              "      <td>91</td>\n",
              "      <td>64.0</td>\n",
              "      <td>2896.0</td>\n",
              "      <td>17859.50</td>\n",
              "      <td>1.0</td>\n",
              "    </tr>\n",
              "    <tr>\n",
              "      <th>357148</th>\n",
              "      <td>237</td>\n",
              "      <td>50</td>\n",
              "      <td>39.0</td>\n",
              "      <td>2711.0</td>\n",
              "      <td>8680.83</td>\n",
              "      <td>1.0</td>\n",
              "    </tr>\n",
              "    <tr>\n",
              "      <th>192987</th>\n",
              "      <td>43</td>\n",
              "      <td>32</td>\n",
              "      <td>22.0</td>\n",
              "      <td>1614.0</td>\n",
              "      <td>8257.80</td>\n",
              "      <td>1.0</td>\n",
              "    </tr>\n",
              "    <tr>\n",
              "      <th>232053</th>\n",
              "      <td>3</td>\n",
              "      <td>111</td>\n",
              "      <td>66.0</td>\n",
              "      <td>1593.0</td>\n",
              "      <td>6969.70</td>\n",
              "      <td>2.0</td>\n",
              "    </tr>\n",
              "    <tr>\n",
              "      <th>116626</th>\n",
              "      <td>245</td>\n",
              "      <td>227</td>\n",
              "      <td>151.0</td>\n",
              "      <td>5466.0</td>\n",
              "      <td>6831.96</td>\n",
              "      <td>1.0</td>\n",
              "    </tr>\n",
              "    <tr>\n",
              "      <th>16489</th>\n",
              "      <td>6</td>\n",
              "      <td>31</td>\n",
              "      <td>23.0</td>\n",
              "      <td>1281.0</td>\n",
              "      <td>6252.75</td>\n",
              "      <td>1.0</td>\n",
              "    </tr>\n",
              "    <tr>\n",
              "      <th>318570</th>\n",
              "      <td>5</td>\n",
              "      <td>82</td>\n",
              "      <td>52.0</td>\n",
              "      <td>1898.0</td>\n",
              "      <td>5608.40</td>\n",
              "      <td>1.0</td>\n",
              "    </tr>\n",
              "    <tr>\n",
              "      <th>54598</th>\n",
              "      <td>31</td>\n",
              "      <td>26</td>\n",
              "      <td>24.0</td>\n",
              "      <td>576.0</td>\n",
              "      <td>5501.00</td>\n",
              "      <td>1.0</td>\n",
              "    </tr>\n",
              "  </tbody>\n",
              "</table>\n",
              "</div>"
            ],
            "text/plain": [
              "        visitNumber  hits  ...  transactionRevenue  transactions\n",
              "157267          243    58  ...            47082.06           2.0\n",
              "51298           258    77  ...            32153.82           3.0\n",
              "187805          181    91  ...            17859.50           1.0\n",
              "357148          237    50  ...             8680.83           1.0\n",
              "192987           43    32  ...             8257.80           1.0\n",
              "232053            3   111  ...             6969.70           2.0\n",
              "116626          245   227  ...             6831.96           1.0\n",
              "16489             6    31  ...             6252.75           1.0\n",
              "318570            5    82  ...             5608.40           1.0\n",
              "54598            31    26  ...             5501.00           1.0\n",
              "\n",
              "[10 rows x 6 columns]"
            ]
          },
          "metadata": {},
          "execution_count": 27
        }
      ]
    },
    {
      "cell_type": "code",
      "metadata": {
        "colab": {
          "base_uri": "https://localhost:8080/",
          "height": 363
        },
        "id": "FMEibh70WCGW",
        "outputId": "fb1dedfe-8e2a-4cf3-acca-52315eb7e636"
      },
      "source": [
        "buyers[columns_show].sort_values('transactions', ascending = False).head(10)"
      ],
      "execution_count": 28,
      "outputs": [
        {
          "output_type": "execute_result",
          "data": {
            "text/html": [
              "<div>\n",
              "<style scoped>\n",
              "    .dataframe tbody tr th:only-of-type {\n",
              "        vertical-align: middle;\n",
              "    }\n",
              "\n",
              "    .dataframe tbody tr th {\n",
              "        vertical-align: top;\n",
              "    }\n",
              "\n",
              "    .dataframe thead th {\n",
              "        text-align: right;\n",
              "    }\n",
              "</style>\n",
              "<table border=\"1\" class=\"dataframe\">\n",
              "  <thead>\n",
              "    <tr style=\"text-align: right;\">\n",
              "      <th></th>\n",
              "      <th>visitNumber</th>\n",
              "      <th>hits</th>\n",
              "      <th>pageviews</th>\n",
              "      <th>timeOnSite</th>\n",
              "      <th>transactionRevenue</th>\n",
              "      <th>transactions</th>\n",
              "    </tr>\n",
              "  </thead>\n",
              "  <tbody>\n",
              "    <tr>\n",
              "      <th>10915</th>\n",
              "      <td>1</td>\n",
              "      <td>500</td>\n",
              "      <td>466.0</td>\n",
              "      <td>7013.0</td>\n",
              "      <td>1938.09</td>\n",
              "      <td>25.0</td>\n",
              "    </tr>\n",
              "    <tr>\n",
              "      <th>10914</th>\n",
              "      <td>1</td>\n",
              "      <td>445</td>\n",
              "      <td>358.0</td>\n",
              "      <td>7435.0</td>\n",
              "      <td>1576.33</td>\n",
              "      <td>21.0</td>\n",
              "    </tr>\n",
              "    <tr>\n",
              "      <th>318573</th>\n",
              "      <td>2</td>\n",
              "      <td>308</td>\n",
              "      <td>139.0</td>\n",
              "      <td>3595.0</td>\n",
              "      <td>382.00</td>\n",
              "      <td>15.0</td>\n",
              "    </tr>\n",
              "    <tr>\n",
              "      <th>351009</th>\n",
              "      <td>1</td>\n",
              "      <td>216</td>\n",
              "      <td>176.0</td>\n",
              "      <td>3465.0</td>\n",
              "      <td>1319.63</td>\n",
              "      <td>12.0</td>\n",
              "    </tr>\n",
              "    <tr>\n",
              "      <th>10913</th>\n",
              "      <td>2</td>\n",
              "      <td>238</td>\n",
              "      <td>182.0</td>\n",
              "      <td>9300.0</td>\n",
              "      <td>1223.57</td>\n",
              "      <td>10.0</td>\n",
              "    </tr>\n",
              "    <tr>\n",
              "      <th>392891</th>\n",
              "      <td>4</td>\n",
              "      <td>205</td>\n",
              "      <td>179.0</td>\n",
              "      <td>4195.0</td>\n",
              "      <td>901.71</td>\n",
              "      <td>8.0</td>\n",
              "    </tr>\n",
              "    <tr>\n",
              "      <th>106288</th>\n",
              "      <td>1</td>\n",
              "      <td>386</td>\n",
              "      <td>343.0</td>\n",
              "      <td>6427.0</td>\n",
              "      <td>3775.80</td>\n",
              "      <td>7.0</td>\n",
              "    </tr>\n",
              "    <tr>\n",
              "      <th>148447</th>\n",
              "      <td>1</td>\n",
              "      <td>100</td>\n",
              "      <td>87.0</td>\n",
              "      <td>1743.0</td>\n",
              "      <td>951.70</td>\n",
              "      <td>7.0</td>\n",
              "    </tr>\n",
              "    <tr>\n",
              "      <th>92962</th>\n",
              "      <td>1</td>\n",
              "      <td>500</td>\n",
              "      <td>400.0</td>\n",
              "      <td>8872.0</td>\n",
              "      <td>1209.64</td>\n",
              "      <td>7.0</td>\n",
              "    </tr>\n",
              "    <tr>\n",
              "      <th>249223</th>\n",
              "      <td>10</td>\n",
              "      <td>122</td>\n",
              "      <td>112.0</td>\n",
              "      <td>4052.0</td>\n",
              "      <td>480.85</td>\n",
              "      <td>4.0</td>\n",
              "    </tr>\n",
              "  </tbody>\n",
              "</table>\n",
              "</div>"
            ],
            "text/plain": [
              "        visitNumber  hits  ...  transactionRevenue  transactions\n",
              "10915             1   500  ...             1938.09          25.0\n",
              "10914             1   445  ...             1576.33          21.0\n",
              "318573            2   308  ...              382.00          15.0\n",
              "351009            1   216  ...             1319.63          12.0\n",
              "10913             2   238  ...             1223.57          10.0\n",
              "392891            4   205  ...              901.71           8.0\n",
              "106288            1   386  ...             3775.80           7.0\n",
              "148447            1   100  ...              951.70           7.0\n",
              "92962             1   500  ...             1209.64           7.0\n",
              "249223           10   122  ...              480.85           4.0\n",
              "\n",
              "[10 rows x 6 columns]"
            ]
          },
          "metadata": {},
          "execution_count": 28
        }
      ]
    },
    {
      "cell_type": "markdown",
      "metadata": {
        "id": "GbLZrzAtWln4"
      },
      "source": [
        "Big amounts of revenue are related with less number of transactions but many number of visits. All that revenue was made in one or two transactions. On the other hand, big numbers of transactions are related with short number of visits. Grater number of hits, page views and also longer time on site and biger transactions revenue. "
      ]
    },
    {
      "cell_type": "markdown",
      "metadata": {
        "id": "xkmspmI8TQH2"
      },
      "source": [
        "### Categorical Features "
      ]
    },
    {
      "cell_type": "markdown",
      "metadata": {
        "id": "mhFsR_QOaxCn"
      },
      "source": [
        "#### Source"
      ]
    },
    {
      "cell_type": "code",
      "metadata": {
        "colab": {
          "base_uri": "https://localhost:8080/"
        },
        "id": "Lm0h0Se-nnY3",
        "outputId": "3cd94df9-0d77-4d8b-e49b-940539cb499b"
      },
      "source": [
        "group_cat(data,'source')"
      ],
      "execution_count": 29,
      "outputs": [
        {
          "output_type": "stream",
          "name": "stdout",
          "text": [
            "There are 210 different source.\n",
            "******************************\n",
            "                   source   count  percentage\n",
            "0                (direct)  167390    0.426046\n",
            "64                 google  141404    0.359906\n",
            "209           youtube.com   43860    0.111634\n",
            "8    analytics.google.com    8887    0.022619\n",
            "3                Partners    7928    0.020179\n",
            "78             google.com    2532    0.006445\n",
            "44                    dfa    2411    0.006137\n",
            "128        m.facebook.com    2117    0.005388\n",
            "184      sites.google.com    1202    0.003059\n",
            "166            reddit.com    1183    0.003011\n"
          ]
        }
      ]
    },
    {
      "cell_type": "code",
      "metadata": {
        "colab": {
          "base_uri": "https://localhost:8080/",
          "height": 482
        },
        "id": "5lunFW4OGVq0",
        "outputId": "db77715a-8948-4db5-b586-7d4f3350153a"
      },
      "source": [
        "sns.catplot(\n",
        "    x = 'source',\n",
        "    data =  data,\n",
        "    kind=\"count\",\n",
        "    order = data['source'].value_counts().iloc[:10].index,\n",
        "    hue = 'bought')\n",
        "plt.xticks(rotation= 90)\n",
        "plot_labels('Source','Count','Best 10 pupular sources')"
      ],
      "execution_count": 30,
      "outputs": [
        {
          "output_type": "display_data",
          "data": {
            "image/png": "[encoded data removed]",
            "text/plain": [
              "<Figure size 403.25x360 with 1 Axes>"
            ]
          },
          "metadata": {
            "needs_background": "light"
          }
        }
      ]
    },
    {
      "cell_type": "code",
      "metadata": {
        "colab": {
          "base_uri": "https://localhost:8080/",
          "height": 471
        },
        "id": "b8ZSMvSiLsnm",
        "outputId": "afd8c6a2-ef08-4ac5-8a62-0722a0f71867"
      },
      "source": [
        "sns.catplot(\n",
        "    x = 'source',\n",
        "    data =  buyers,\n",
        "    kind=\"count\",\n",
        "    order = buyers['source'].value_counts().iloc[:10].index)\n",
        "plt.xticks(rotation= 90)\n",
        "plot_labels('Source','Count','Best 10 pupular sources among buyes')"
      ],
      "execution_count": 31,
      "outputs": [
        {
          "output_type": "display_data",
          "data": {
            "image/png": "[encoded data removed]",
            "text/plain": [
              "<Figure size 360x360 with 1 Axes>"
            ]
          },
          "metadata": {
            "needs_background": "light"
          }
        }
      ]
    },
    {
      "cell_type": "markdown",
      "metadata": {
        "id": "zG4ak0PeEfiP"
      },
      "source": [
        "The first categorical feature that is being study is Source. This feature has 210 different categories, and only the firsts three are more important, because they appear with more frequency. These are '(direct)', 'google' and 'youtube'. In the buyers dataframe, the most frequent sources are '(direct)' and 'google', the rest are less frequent and important."
      ]
    },
    {
      "cell_type": "markdown",
      "metadata": {
        "id": "I51-4EA2PnCj"
      },
      "source": [
        "#### Channel Grouping\n",
        "Is the grouping of sources."
      ]
    },
    {
      "cell_type": "code",
      "metadata": {
        "colab": {
          "base_uri": "https://localhost:8080/"
        },
        "id": "lyi05vQVpPnf",
        "outputId": "9b336366-643b-479d-f6fd-3732bd2835c8"
      },
      "source": [
        "group_cat(data, 'channelGrouping')"
      ],
      "execution_count": 32,
      "outputs": [
        {
          "output_type": "stream",
          "name": "stdout",
          "text": [
            "There are 8 different channelGrouping.\n",
            "******************************\n",
            "  channelGrouping   count  percentage\n",
            "4  Organic Search  195434    0.497424\n",
            "2          Direct   73723    0.187642\n",
            "7          Social   52174    0.132795\n",
            "6        Referral   48877    0.124403\n",
            "5     Paid Search   12075    0.030734\n",
            "1      Affiliates    7921    0.020161\n",
            "3         Display    2575    0.006554\n",
            "0         (Other)     113    0.000288\n"
          ]
        }
      ]
    },
    {
      "cell_type": "code",
      "metadata": {
        "colab": {
          "base_uri": "https://localhost:8080/",
          "height": 452
        },
        "id": "qEwkTurpPtdB",
        "outputId": "c3b19bd3-fb60-4b69-9e5c-779c6718bc94"
      },
      "source": [
        "sns.catplot(\n",
        "    x = 'channelGrouping',\n",
        "    data =  data,\n",
        "    kind=\"count\",\n",
        "    order = data['channelGrouping'].value_counts().index,\n",
        "    hue = 'bought')\n",
        "plt.xticks(rotation= 90)\n",
        "plot_labels('Channel Grouping','Count','Channels')"
      ],
      "execution_count": 33,
      "outputs": [
        {
          "output_type": "display_data",
          "data": {
            "image/png": "[encoded data removed]",
            "text/plain": [
              "<Figure size 403.25x360 with 1 Axes>"
            ]
          },
          "metadata": {
            "needs_background": "light"
          }
        }
      ]
    },
    {
      "cell_type": "code",
      "metadata": {
        "colab": {
          "base_uri": "https://localhost:8080/",
          "height": 452
        },
        "id": "eFvgsD5OPtdB",
        "outputId": "49f8f63b-7984-4a7e-de65-02eedfc2f848"
      },
      "source": [
        "sns.catplot(\n",
        "    x = 'channelGrouping',\n",
        "    data =  buyers,\n",
        "    kind=\"count\",\n",
        "    order = buyers['channelGrouping'].value_counts().index)\n",
        "plt.xticks(rotation= 90)\n",
        "plot_labels('Channel Grouping','Count','Channels among buyers')"
      ],
      "execution_count": 34,
      "outputs": [
        {
          "output_type": "display_data",
          "data": {
            "image/png": "[encoded data removed]",
            "text/plain": [
              "<Figure size 360x360 with 1 Axes>"
            ]
          },
          "metadata": {
            "needs_background": "light"
          }
        }
      ]
    },
    {
      "cell_type": "markdown",
      "metadata": {
        "id": "Wv7119XQRcJp"
      },
      "source": [
        "Channel grouping is a feature that groups the different sources in less amount of categories. As can be seen in the graphics, there are a few with small frequency of appearence, and the frequencies changes from the general dataframe and the only buyers. The most frequent channel is 'organic search' in the dataframe, but in the buyers dataframe it is 'Referral', wich was the fourth in the first dataframe. "
      ]
    },
    {
      "cell_type": "markdown",
      "metadata": {
        "id": "r7CwBlZxSp00"
      },
      "source": [
        "#### Browser"
      ]
    },
    {
      "cell_type": "code",
      "metadata": {
        "colab": {
          "base_uri": "https://localhost:8080/"
        },
        "id": "h6eDY00NpXEL",
        "outputId": "b5317f35-00de-4080-8ad4-475088d35d01"
      },
      "source": [
        "group_cat(data, 'browser')"
      ],
      "execution_count": 35,
      "outputs": [
        {
          "output_type": "stream",
          "name": "stdout",
          "text": [
            "There are 39 different browser.\n",
            "******************************\n",
            "              browser   count  percentage\n",
            "9              Chrome  279456    0.711279\n",
            "30             Safari   61638    0.156883\n",
            "14            Firefox   17834    0.045392\n",
            "16  Internet Explorer    9513    0.024213\n",
            "4     Android Webview    6225    0.015844\n",
            "13               Edge    4976    0.012665\n",
            "31    Safari (in-app)    4199    0.010687\n",
            "27         Opera Mini    3075    0.007827\n",
            "26              Opera    2037    0.005185\n",
            "34         UC Browser    1390    0.003538\n"
          ]
        }
      ]
    },
    {
      "cell_type": "code",
      "metadata": {
        "colab": {
          "base_uri": "https://localhost:8080/",
          "height": 462
        },
        "id": "xxnVeWoPSwK1",
        "outputId": "e0a7ecca-bd6f-4f1e-8a91-f708a8706289"
      },
      "source": [
        "sns.catplot(\n",
        "    x = 'browser',\n",
        "    data =  data,\n",
        "    kind=\"count\",\n",
        "    order = data['browser'].value_counts().iloc[:10].index,\n",
        "    hue = 'bought')\n",
        "plt.xticks(rotation= 90)\n",
        "plot_labels('Browser','Count','Best 10 popular browsers')"
      ],
      "execution_count": 36,
      "outputs": [
        {
          "output_type": "display_data",
          "data": {
            "image/png": "[encoded data removed]",
            "text/plain": [
              "<Figure size 403.25x360 with 1 Axes>"
            ]
          },
          "metadata": {
            "needs_background": "light"
          }
        }
      ]
    },
    {
      "cell_type": "code",
      "metadata": {
        "colab": {
          "base_uri": "https://localhost:8080/",
          "height": 462
        },
        "id": "qxw3x2T1SwK2",
        "outputId": "fd9f3d69-c970-4719-b784-ba990c79df3a"
      },
      "source": [
        "sns.catplot(\n",
        "    x = 'browser',\n",
        "    data =  buyers,\n",
        "    kind=\"count\",\n",
        "    order = buyers['browser'].value_counts().iloc[:10].index)\n",
        "plt.xticks(rotation= 90)\n",
        "plot_labels('Browser','Count','Best 10 popular browsers among buyers')"
      ],
      "execution_count": 37,
      "outputs": [
        {
          "output_type": "display_data",
          "data": {
            "image/png": "[encoded data removed]",
            "text/plain": [
              "<Figure size 360x360 with 1 Axes>"
            ]
          },
          "metadata": {
            "needs_background": "light"
          }
        }
      ]
    },
    {
      "cell_type": "markdown",
      "metadata": {
        "id": "IbDn5nTqUm4_"
      },
      "source": [
        "It can be seen here that Chrome is the most popular browser in the store, and also between the buyers. This makes sense because people that buys google merchandising could be the same that uses chrome as their browser."
      ]
    },
    {
      "cell_type": "markdown",
      "metadata": {
        "id": "DN5eT_rZVJ64"
      },
      "source": [
        "#### Device Category"
      ]
    },
    {
      "cell_type": "code",
      "metadata": {
        "colab": {
          "base_uri": "https://localhost:8080/"
        },
        "id": "RPXAkM73pcsL",
        "outputId": "114e91e7-d9c4-4c98-c049-dc37e64b2fb4"
      },
      "source": [
        "group_cat(data, 'deviceCategory')"
      ],
      "execution_count": 38,
      "outputs": [
        {
          "output_type": "stream",
          "name": "stdout",
          "text": [
            "There are 3 different deviceCategory.\n",
            "******************************\n",
            "  deviceCategory   count  percentage\n",
            "0        desktop  267370    0.680518\n",
            "1         mobile  110200    0.280484\n",
            "2         tablet   15322    0.038998\n"
          ]
        }
      ]
    },
    {
      "cell_type": "code",
      "metadata": {
        "colab": {
          "base_uri": "https://localhost:8080/",
          "height": 415
        },
        "id": "AXvqdVQ9VW4H",
        "outputId": "57510899-9b28-48f8-d953-3f6be838bee6"
      },
      "source": [
        "sns.catplot(\n",
        "    x = 'deviceCategory',\n",
        "    data =  data,\n",
        "    kind=\"count\",\n",
        "    order = data['deviceCategory'].value_counts().index,\n",
        "    hue = 'bought')\n",
        "plt.xticks(rotation= 90)\n",
        "plot_labels('Device','Count','Devices')"
      ],
      "execution_count": 39,
      "outputs": [
        {
          "output_type": "display_data",
          "data": {
            "image/png": "[encoded data removed]",
            "text/plain": [
              "<Figure size 403.25x360 with 1 Axes>"
            ]
          },
          "metadata": {
            "needs_background": "light"
          }
        }
      ]
    },
    {
      "cell_type": "code",
      "metadata": {
        "colab": {
          "base_uri": "https://localhost:8080/",
          "height": 414
        },
        "id": "7noY1fnuVW4H",
        "outputId": "14fef93e-b77e-4ee1-af8f-c56fb9e3c2f3"
      },
      "source": [
        "sns.catplot(\n",
        "    x = 'deviceCategory',\n",
        "    data =  buyers,\n",
        "    kind=\"count\",\n",
        "    order = buyers['deviceCategory'].value_counts().index)\n",
        "plt.xticks(rotation= 90)\n",
        "plot_labels('Device','Count','Devices among buyers')"
      ],
      "execution_count": 40,
      "outputs": [
        {
          "output_type": "display_data",
          "data": {
            "image/png": "[encoded data removed]",
            "text/plain": [
              "<Figure size 360x360 with 1 Axes>"
            ]
          },
          "metadata": {
            "needs_background": "light"
          }
        }
      ]
    },
    {
      "cell_type": "markdown",
      "metadata": {
        "id": "FL2oTa3gWw0Z"
      },
      "source": [
        "This category feature has only three categories, the most popular in both dataframes, the geneal and the only buyers, is desktop."
      ]
    },
    {
      "cell_type": "markdown",
      "metadata": {
        "id": "mj-qeBNaKi89"
      },
      "source": [
        "#### Country"
      ]
    },
    {
      "cell_type": "code",
      "metadata": {
        "colab": {
          "base_uri": "https://localhost:8080/"
        },
        "id": "_ZbwspUDpgqY",
        "outputId": "af46fbbb-a978-452f-87f0-d4a2416c6605"
      },
      "source": [
        "group_cat(data, 'country')"
      ],
      "execution_count": 41,
      "outputs": [
        {
          "output_type": "stream",
          "name": "stdout",
          "text": [
            "There are 213 different country.\n",
            "******************************\n",
            "            country   count  percentage\n",
            "203   United States  172224    0.438349\n",
            "89            India   24361    0.062004\n",
            "202  United Kingdom   19274    0.049057\n",
            "35           Canada   12308    0.031327\n",
            "72          Germany   10467    0.026641\n",
            "98            Japan    9669    0.024610\n",
            "66           France    8439    0.021479\n",
            "175           Spain    6502    0.016549\n",
            "11        Australia    6412    0.016320\n",
            "187          Taiwan    6177    0.015722\n"
          ]
        }
      ]
    },
    {
      "cell_type": "code",
      "metadata": {
        "colab": {
          "base_uri": "https://localhost:8080/",
          "height": 456
        },
        "id": "bGVXvvESaQXf",
        "outputId": "0f1caa82-3e22-4660-e0f4-db33a1a27192"
      },
      "source": [
        "sns.catplot(\n",
        "    x = 'country',\n",
        "    data =  data,\n",
        "    kind=\"count\",\n",
        "    order = data['country'].value_counts().iloc[:10].index,\n",
        "    hue = 'bought')\n",
        "plt.xticks(rotation= 90)\n",
        "plot_labels('Country','Count','Best 10 most popular countries')"
      ],
      "execution_count": 42,
      "outputs": [
        {
          "output_type": "display_data",
          "data": {
            "image/png": "[encoded data removed]",
            "text/plain": [
              "<Figure size 403.25x360 with 1 Axes>"
            ]
          },
          "metadata": {
            "needs_background": "light"
          }
        }
      ]
    },
    {
      "cell_type": "code",
      "metadata": {
        "colab": {
          "base_uri": "https://localhost:8080/",
          "height": 443
        },
        "id": "P6iGeFH0aQXg",
        "outputId": "1f0cf8a2-fd6d-4aa1-f5af-bc90849f9e35"
      },
      "source": [
        "sns.catplot(\n",
        "    x = 'country',\n",
        "    data =  buyers,\n",
        "    kind=\"count\",\n",
        "    order = buyers['country'].value_counts().iloc[:10].index)\n",
        "plt.xticks(rotation= 90)\n",
        "plot_labels('Country','Count','Best 10 most popular countries among buyers')"
      ],
      "execution_count": 43,
      "outputs": [
        {
          "output_type": "display_data",
          "data": {
            "image/png": "[encoded data removed]",
            "text/plain": [
              "<Figure size 360x360 with 1 Axes>"
            ]
          },
          "metadata": {
            "needs_background": "light"
          }
        }
      ]
    },
    {
      "cell_type": "markdown",
      "metadata": {
        "id": "7hA2zzhnbU8T"
      },
      "source": [
        "There are 213 different countries, but only United States is the one that is more frequent. The rest appears with much less frequency, in the general and buyers dataframe, both."
      ]
    },
    {
      "cell_type": "markdown",
      "metadata": {
        "id": "-pS2YWFEbuIb"
      },
      "source": [
        "#### City"
      ]
    },
    {
      "cell_type": "code",
      "metadata": {
        "colab": {
          "base_uri": "https://localhost:8080/"
        },
        "id": "zEPO3Mytplta",
        "outputId": "12275d81-3cc5-44dc-e05d-1c4b7fc784de"
      },
      "source": [
        "group_cat(data, 'city')"
      ],
      "execution_count": 44,
      "outputs": [
        {
          "output_type": "stream",
          "name": "stdout",
          "text": [
            "There are 416 different city.\n",
            "******************************\n",
            "                              city   count  percentage\n",
            "415  not available in demo dataset  228132    0.580648\n",
            "245                  Mountain View   18152    0.046201\n",
            "1                        (not set)   13157    0.033488\n",
            "257                       New York   12458    0.031708\n",
            "329                  San Francisco    9707    0.024707\n",
            "209                         London    6231    0.015859\n",
            "364                      Sunnyvale    6144    0.015638\n",
            "330                       San Jose    4709    0.011985\n",
            "210                    Los Angeles    4299    0.010942\n",
            "89                         Chicago    3476    0.008847\n"
          ]
        }
      ]
    },
    {
      "cell_type": "code",
      "metadata": {
        "colab": {
          "base_uri": "https://localhost:8080/",
          "height": 524
        },
        "id": "tHewA697bzbD",
        "outputId": "68783d07-b648-4ba8-9a18-79b0eea1d226"
      },
      "source": [
        "sns.catplot(\n",
        "    x = 'city',\n",
        "    data =  data,\n",
        "    kind=\"count\",\n",
        "    order = data['city'].value_counts().iloc[:10].index,\n",
        "    hue = 'bought')\n",
        "plt.xticks(rotation= 90)\n",
        "plot_labels('City','Count','Best 10 most popular cities')"
      ],
      "execution_count": 45,
      "outputs": [
        {
          "output_type": "display_data",
          "data": {
            "image/png": "[encoded data removed]",
            "text/plain": [
              "<Figure size 403.25x360 with 1 Axes>"
            ]
          },
          "metadata": {
            "needs_background": "light"
          }
        }
      ]
    },
    {
      "cell_type": "code",
      "metadata": {
        "colab": {
          "base_uri": "https://localhost:8080/",
          "height": 524
        },
        "id": "vpwxenuwbzbD",
        "outputId": "0e166ee8-9b04-41a3-e99e-d165ee43e9e8"
      },
      "source": [
        "sns.catplot(\n",
        "    x = 'city',\n",
        "    data =  buyers,\n",
        "    kind=\"count\",\n",
        "    order = buyers['city'].value_counts().iloc[:10].index)\n",
        "plt.xticks(rotation= 90)\n",
        "plot_labels('Country','Count','Best 10 most popular countries among buyers')"
      ],
      "execution_count": 46,
      "outputs": [
        {
          "output_type": "display_data",
          "data": {
            "image/png": "[encoded data removed]",
            "text/plain": [
              "<Figure size 360x360 with 1 Axes>"
            ]
          },
          "metadata": {
            "needs_background": "light"
          }
        }
      ]
    },
    {
      "cell_type": "markdown",
      "metadata": {
        "id": "-pYsZLbKdGVN"
      },
      "source": [
        "There are more than 400 different cities, and at least two of these categories are 'not available in demo dataset', and '(not set)' wich are missing values. This category feature is not relevant, because of its dimensionality and the amount of missing values. Also, similar information can be found in the countries column."
      ]
    },
    {
      "cell_type": "markdown",
      "metadata": {
        "id": "Jn8upUNrPdDt"
      },
      "source": [
        "### Time Serie, date"
      ]
    },
    {
      "cell_type": "code",
      "metadata": {
        "colab": {
          "base_uri": "https://localhost:8080/",
          "height": 295
        },
        "id": "oYm84NGmMi4h",
        "outputId": "1068f2a7-d003-41a8-cc5a-3f10de44e554"
      },
      "source": [
        "#TransactionRevenue along the six month of data\n",
        "group_date_M= data.set_index('date').groupby(pd.Grouper(freq='M')).mean()\n",
        "plt.plot(group_date_M.index, group_date_M['transactionRevenue'])\n",
        "plot_labels('Month','Transaction Revenue','Mean Transaction Revenue per month')"
      ],
      "execution_count": 47,
      "outputs": [
        {
          "output_type": "display_data",
          "data": {
            "image/png": "[encoded data removed]",
            "text/plain": [
              "<Figure size 432x288 with 1 Axes>"
            ]
          },
          "metadata": {
            "needs_background": "light"
          }
        }
      ]
    },
    {
      "cell_type": "markdown",
      "metadata": {
        "id": "AEwDAPlAentO"
      },
      "source": [
        "It can be seen that the month with more revenues is may. But, there are not many years of data to see if there are some kind of pattern."
      ]
    },
    {
      "cell_type": "markdown",
      "metadata": {
        "id": "nyNC6q3QMi4h"
      },
      "source": [
        "# Preprocessing\n",
        "\n",
        "\n"
      ]
    },
    {
      "cell_type": "markdown",
      "metadata": {
        "id": "30EPzMnOoTQa"
      },
      "source": [
        "### Columns\n",
        "\n",
        "Some columns are going to be left behind, and others are going to be change a little.\n",
        "Numeric columns are going to be left as they are. But categorical are going to be work on.\n",
        "\n",
        "'Source' is going to be droped and 'channelGrouping' is going to be grouped in less categories, because the last 4 has a little percentage of appearence.\n",
        "\n",
        "'browser' is going to be left Chrome, Safari and Firefox, the rest are grouped in other.\t\n",
        "\n",
        "'country' is going to be grouped, the first 7 with more frequency of appearence are going to be left as they are, buy the rest are going to be grouped as 'Other'. 'city' column is going to be droped because has similar information as 'country'.\n",
        "\n",
        "'date' is going to be droped because it doesn't have any pattern.\n",
        "\n",
        "'fullVisitorID' is the id of each visitor, this is not important in the model.\n",
        "\n",
        "'transactionRevenue' is not important for predicting transactions, because if we want to know if the user is going to made the transaction, we aren't going to know how much it will be. Also, 'transactions'column is droped because the same reason.\n"
      ]
    },
    {
      "cell_type": "code",
      "metadata": {
        "colab": {
          "base_uri": "https://localhost:8080/",
          "height": 206
        },
        "id": "YMe29fjvfn88",
        "outputId": "bac6e761-79dd-4175-f708-522a09a56299"
      },
      "source": [
        "data_droped = data.drop(['fullVisitorID','source', 'city', 'date', 'transactions', 'transactionRevenue'], axis = 1)\n",
        "\n",
        "data_droped.head()"
      ],
      "execution_count": 48,
      "outputs": [
        {
          "output_type": "execute_result",
          "data": {
            "text/html": [
              "<div>\n",
              "<style scoped>\n",
              "    .dataframe tbody tr th:only-of-type {\n",
              "        vertical-align: middle;\n",
              "    }\n",
              "\n",
              "    .dataframe tbody tr th {\n",
              "        vertical-align: top;\n",
              "    }\n",
              "\n",
              "    .dataframe thead th {\n",
              "        text-align: right;\n",
              "    }\n",
              "</style>\n",
              "<table border=\"1\" class=\"dataframe\">\n",
              "  <thead>\n",
              "    <tr style=\"text-align: right;\">\n",
              "      <th></th>\n",
              "      <th>visitNumber</th>\n",
              "      <th>bounces</th>\n",
              "      <th>hits</th>\n",
              "      <th>pageviews</th>\n",
              "      <th>timeOnSite</th>\n",
              "      <th>channelGrouping</th>\n",
              "      <th>browser</th>\n",
              "      <th>deviceCategory</th>\n",
              "      <th>country</th>\n",
              "      <th>bought</th>\n",
              "    </tr>\n",
              "  </thead>\n",
              "  <tbody>\n",
              "    <tr>\n",
              "      <th>0</th>\n",
              "      <td>1</td>\n",
              "      <td>1.0</td>\n",
              "      <td>1</td>\n",
              "      <td>1.0</td>\n",
              "      <td>NaN</td>\n",
              "      <td>Organic Search</td>\n",
              "      <td>Chrome</td>\n",
              "      <td>desktop</td>\n",
              "      <td>Australia</td>\n",
              "      <td>0</td>\n",
              "    </tr>\n",
              "    <tr>\n",
              "      <th>1</th>\n",
              "      <td>2</td>\n",
              "      <td>1.0</td>\n",
              "      <td>1</td>\n",
              "      <td>1.0</td>\n",
              "      <td>NaN</td>\n",
              "      <td>Organic Search</td>\n",
              "      <td>Chrome</td>\n",
              "      <td>mobile</td>\n",
              "      <td>Turkey</td>\n",
              "      <td>0</td>\n",
              "    </tr>\n",
              "    <tr>\n",
              "      <th>2</th>\n",
              "      <td>1</td>\n",
              "      <td>1.0</td>\n",
              "      <td>1</td>\n",
              "      <td>1.0</td>\n",
              "      <td>NaN</td>\n",
              "      <td>Organic Search</td>\n",
              "      <td>Chrome</td>\n",
              "      <td>desktop</td>\n",
              "      <td>Russia</td>\n",
              "      <td>0</td>\n",
              "    </tr>\n",
              "    <tr>\n",
              "      <th>3</th>\n",
              "      <td>2</td>\n",
              "      <td>1.0</td>\n",
              "      <td>1</td>\n",
              "      <td>1.0</td>\n",
              "      <td>NaN</td>\n",
              "      <td>Organic Search</td>\n",
              "      <td>Edge</td>\n",
              "      <td>desktop</td>\n",
              "      <td>United States</td>\n",
              "      <td>0</td>\n",
              "    </tr>\n",
              "    <tr>\n",
              "      <th>4</th>\n",
              "      <td>1</td>\n",
              "      <td>1.0</td>\n",
              "      <td>1</td>\n",
              "      <td>1.0</td>\n",
              "      <td>NaN</td>\n",
              "      <td>Organic Search</td>\n",
              "      <td>Chrome</td>\n",
              "      <td>desktop</td>\n",
              "      <td>Indonesia</td>\n",
              "      <td>0</td>\n",
              "    </tr>\n",
              "  </tbody>\n",
              "</table>\n",
              "</div>"
            ],
            "text/plain": [
              "   visitNumber  bounces  hits  ...  deviceCategory        country bought\n",
              "0            1      1.0     1  ...         desktop      Australia      0\n",
              "1            2      1.0     1  ...          mobile         Turkey      0\n",
              "2            1      1.0     1  ...         desktop         Russia      0\n",
              "3            2      1.0     1  ...         desktop  United States      0\n",
              "4            1      1.0     1  ...         desktop      Indonesia      0\n",
              "\n",
              "[5 rows x 10 columns]"
            ]
          },
          "metadata": {},
          "execution_count": 48
        }
      ]
    },
    {
      "cell_type": "markdown",
      "metadata": {
        "id": "UpKLah19oGtv"
      },
      "source": [
        "#### Channel"
      ]
    },
    {
      "cell_type": "code",
      "metadata": {
        "id": "y1jn8Kfmk6iu",
        "colab": {
          "base_uri": "https://localhost:8080/"
        },
        "outputId": "b7f732a0-875e-4766-dfea-7489d853c08f"
      },
      "source": [
        "data_droped['channelNew'] = np.where(\n",
        "    (data_droped['channelGrouping'] == 'Paid Search') |  \n",
        "    (data_droped['channelGrouping'] == 'Affiliates') | \n",
        "    (data_droped['channelGrouping'] == 'Display') | \n",
        "    (data_droped['channelGrouping'] == '(Other)'), \n",
        "    'Other', \n",
        "    data_droped['channelGrouping'])\n",
        "\n",
        "group_cat(data_droped, 'channelNew')"
      ],
      "execution_count": 49,
      "outputs": [
        {
          "output_type": "stream",
          "name": "stdout",
          "text": [
            "There are 5 different channelNew.\n",
            "******************************\n",
            "       channelNew   count  percentage\n",
            "1  Organic Search  195434    0.497424\n",
            "0          Direct   73723    0.187642\n",
            "4          Social   52174    0.132795\n",
            "3        Referral   48877    0.124403\n",
            "2           Other   22684    0.057736\n"
          ]
        }
      ]
    },
    {
      "cell_type": "markdown",
      "metadata": {
        "id": "Q2wwRoWjoJk5"
      },
      "source": [
        "#### Browser"
      ]
    },
    {
      "cell_type": "code",
      "metadata": {
        "id": "wCnA7kWcniFx",
        "colab": {
          "base_uri": "https://localhost:8080/"
        },
        "outputId": "fd675597-2bd1-4030-cc31-78f67f312fad"
      },
      "source": [
        "data_droped['browserNew'] = np.where(\n",
        "    (data_droped['browser'] == 'Chrome') |  \n",
        "    (data_droped['browser'] == 'Safari') | \n",
        "    (data_droped['browser'] == 'Firefox'), \n",
        "    data_droped['browser'], \n",
        "    'Other')\n",
        "\n",
        "group_cat(data_droped, 'browserNew')"
      ],
      "execution_count": 50,
      "outputs": [
        {
          "output_type": "stream",
          "name": "stdout",
          "text": [
            "There are 4 different browserNew.\n",
            "******************************\n",
            "  browserNew   count  percentage\n",
            "0     Chrome  279456    0.711279\n",
            "3     Safari   61638    0.156883\n",
            "2      Other   33964    0.086446\n",
            "1    Firefox   17834    0.045392\n"
          ]
        }
      ]
    },
    {
      "cell_type": "markdown",
      "metadata": {
        "id": "Ax3f5lRQoe-u"
      },
      "source": [
        "#### Country\n"
      ]
    },
    {
      "cell_type": "code",
      "metadata": {
        "id": "AJcQp5Z4ohqO",
        "colab": {
          "base_uri": "https://localhost:8080/"
        },
        "outputId": "32f1894b-6f65-4198-9192-96ff153f85b1"
      },
      "source": [
        "data_droped['countryNew'] = np.where(\n",
        "    (data_droped['country'] == 'United States') |  \n",
        "    (data_droped['country'] == 'India') | \n",
        "    (data_droped['country'] == 'United Kingdom') |\n",
        "    (data_droped['country'] == 'Canada') | \n",
        "    (data_droped['country'] == 'Germany') | \n",
        "    (data_droped['country'] == 'Japan') | \n",
        "    (data_droped['country'] == 'France') , \n",
        "    data_droped['country'], \n",
        "    'Other')\n",
        "\n",
        "group_cat(data_droped, 'countryNew')"
      ],
      "execution_count": 51,
      "outputs": [
        {
          "output_type": "stream",
          "name": "stdout",
          "text": [
            "There are 8 different countryNew.\n",
            "******************************\n",
            "       countryNew   count  percentage\n",
            "7   United States  172224    0.438349\n",
            "5           Other  136150    0.346533\n",
            "3           India   24361    0.062004\n",
            "6  United Kingdom   19274    0.049057\n",
            "0          Canada   12308    0.031327\n",
            "2         Germany   10467    0.026641\n",
            "4           Japan    9669    0.024610\n",
            "1          France    8439    0.021479\n"
          ]
        }
      ]
    },
    {
      "cell_type": "code",
      "metadata": {
        "colab": {
          "base_uri": "https://localhost:8080/",
          "height": 206
        },
        "id": "aE-ADqrqq7tW",
        "outputId": "b424aa6e-f08b-4979-a6da-1d917730c47c"
      },
      "source": [
        "data_droped = data_droped.drop(['channelGrouping', 'browser', 'country'], axis = 1)\n",
        "data_droped.head()"
      ],
      "execution_count": 52,
      "outputs": [
        {
          "output_type": "execute_result",
          "data": {
            "text/html": [
              "<div>\n",
              "<style scoped>\n",
              "    .dataframe tbody tr th:only-of-type {\n",
              "        vertical-align: middle;\n",
              "    }\n",
              "\n",
              "    .dataframe tbody tr th {\n",
              "        vertical-align: top;\n",
              "    }\n",
              "\n",
              "    .dataframe thead th {\n",
              "        text-align: right;\n",
              "    }\n",
              "</style>\n",
              "<table border=\"1\" class=\"dataframe\">\n",
              "  <thead>\n",
              "    <tr style=\"text-align: right;\">\n",
              "      <th></th>\n",
              "      <th>visitNumber</th>\n",
              "      <th>bounces</th>\n",
              "      <th>hits</th>\n",
              "      <th>pageviews</th>\n",
              "      <th>timeOnSite</th>\n",
              "      <th>deviceCategory</th>\n",
              "      <th>bought</th>\n",
              "      <th>channelNew</th>\n",
              "      <th>browserNew</th>\n",
              "      <th>countryNew</th>\n",
              "    </tr>\n",
              "  </thead>\n",
              "  <tbody>\n",
              "    <tr>\n",
              "      <th>0</th>\n",
              "      <td>1</td>\n",
              "      <td>1.0</td>\n",
              "      <td>1</td>\n",
              "      <td>1.0</td>\n",
              "      <td>NaN</td>\n",
              "      <td>desktop</td>\n",
              "      <td>0</td>\n",
              "      <td>Organic Search</td>\n",
              "      <td>Chrome</td>\n",
              "      <td>Other</td>\n",
              "    </tr>\n",
              "    <tr>\n",
              "      <th>1</th>\n",
              "      <td>2</td>\n",
              "      <td>1.0</td>\n",
              "      <td>1</td>\n",
              "      <td>1.0</td>\n",
              "      <td>NaN</td>\n",
              "      <td>mobile</td>\n",
              "      <td>0</td>\n",
              "      <td>Organic Search</td>\n",
              "      <td>Chrome</td>\n",
              "      <td>Other</td>\n",
              "    </tr>\n",
              "    <tr>\n",
              "      <th>2</th>\n",
              "      <td>1</td>\n",
              "      <td>1.0</td>\n",
              "      <td>1</td>\n",
              "      <td>1.0</td>\n",
              "      <td>NaN</td>\n",
              "      <td>desktop</td>\n",
              "      <td>0</td>\n",
              "      <td>Organic Search</td>\n",
              "      <td>Chrome</td>\n",
              "      <td>Other</td>\n",
              "    </tr>\n",
              "    <tr>\n",
              "      <th>3</th>\n",
              "      <td>2</td>\n",
              "      <td>1.0</td>\n",
              "      <td>1</td>\n",
              "      <td>1.0</td>\n",
              "      <td>NaN</td>\n",
              "      <td>desktop</td>\n",
              "      <td>0</td>\n",
              "      <td>Organic Search</td>\n",
              "      <td>Other</td>\n",
              "      <td>United States</td>\n",
              "    </tr>\n",
              "    <tr>\n",
              "      <th>4</th>\n",
              "      <td>1</td>\n",
              "      <td>1.0</td>\n",
              "      <td>1</td>\n",
              "      <td>1.0</td>\n",
              "      <td>NaN</td>\n",
              "      <td>desktop</td>\n",
              "      <td>0</td>\n",
              "      <td>Organic Search</td>\n",
              "      <td>Chrome</td>\n",
              "      <td>Other</td>\n",
              "    </tr>\n",
              "  </tbody>\n",
              "</table>\n",
              "</div>"
            ],
            "text/plain": [
              "   visitNumber  bounces  hits  ...      channelNew  browserNew     countryNew\n",
              "0            1      1.0     1  ...  Organic Search      Chrome          Other\n",
              "1            2      1.0     1  ...  Organic Search      Chrome          Other\n",
              "2            1      1.0     1  ...  Organic Search      Chrome          Other\n",
              "3            2      1.0     1  ...  Organic Search       Other  United States\n",
              "4            1      1.0     1  ...  Organic Search      Chrome          Other\n",
              "\n",
              "[5 rows x 10 columns]"
            ]
          },
          "metadata": {},
          "execution_count": 52
        }
      ]
    },
    {
      "cell_type": "markdown",
      "metadata": {
        "id": "KLjQ8o3Ri27L"
      },
      "source": [
        "### Nulls\n"
      ]
    },
    {
      "cell_type": "code",
      "metadata": {
        "id": "_Vm6PiJfqX11"
      },
      "source": [
        "def check_nulls(data):\n",
        "  # Checks wich columns has missing values\n",
        "  for col in data.columns:\n",
        "    nuls = data[data[col].isnull()][col].shape[0]\n",
        "    if nuls != 0:\n",
        "      per = nuls/data.shape[0] \n",
        "      print(col)\n",
        "      print(f'Amount of nulls:{nuls}')\n",
        "      print(f'Percentage of nulls: {per}')\n",
        "      print('**'*6)"
      ],
      "execution_count": 53,
      "outputs": []
    },
    {
      "cell_type": "code",
      "metadata": {
        "colab": {
          "base_uri": "https://localhost:8080/"
        },
        "id": "ONpUcUFCqcpN",
        "outputId": "14b8796b-59eb-4c1e-d9b6-cddc1f4a8bc2"
      },
      "source": [
        "check_nulls(data_droped)"
      ],
      "execution_count": 54,
      "outputs": [
        {
          "output_type": "stream",
          "name": "stdout",
          "text": [
            "bounces\n",
            "Amount of nulls:196928\n",
            "Percentage of nulls: 0.5012268002402696\n",
            "************\n",
            "pageviews\n",
            "Amount of nulls:36\n",
            "Percentage of nulls: 9.162823371308145e-05\n",
            "************\n",
            "timeOnSite\n",
            "Amount of nulls:196493\n",
            "Percentage of nulls: 0.5001196257495698\n",
            "************\n"
          ]
        }
      ]
    },
    {
      "cell_type": "markdown",
      "metadata": {
        "id": "BMiI9ss9q51K"
      },
      "source": [
        "First bounces column is check, to see if there are mistakes. All NaNs in bounces should be users that had interaction with the site, so pageviews and timeOnSite shouldn't be NaN."
      ]
    },
    {
      "cell_type": "code",
      "metadata": {
        "colab": {
          "base_uri": "https://localhost:8080/",
          "height": 224
        },
        "id": "WvYQu3QlrOAf",
        "outputId": "eaef3881-c0dc-4c34-8a9f-f63f0f1e6677"
      },
      "source": [
        "data_bounces_mistake = data_droped[\n",
        "                                   (\n",
        "                                    data_droped['pageviews'].isnull() & \n",
        "                                    data_droped['bounces'].isnull() & \n",
        "                                    data_droped['timeOnSite'].isnull()\n",
        "                                    )\n",
        "                                   ]\n",
        "print(f'There are {data_bounces_mistake.shape[0]} rows with NaN in bounces, pageviews and timeonsite')\n",
        "data_bounces_mistake.head()"
      ],
      "execution_count": 55,
      "outputs": [
        {
          "output_type": "stream",
          "name": "stdout",
          "text": [
            "There are 23 rows with NaN in bounces, pageviews and timeonsite\n"
          ]
        },
        {
          "output_type": "execute_result",
          "data": {
            "text/html": [
              "<div>\n",
              "<style scoped>\n",
              "    .dataframe tbody tr th:only-of-type {\n",
              "        vertical-align: middle;\n",
              "    }\n",
              "\n",
              "    .dataframe tbody tr th {\n",
              "        vertical-align: top;\n",
              "    }\n",
              "\n",
              "    .dataframe thead th {\n",
              "        text-align: right;\n",
              "    }\n",
              "</style>\n",
              "<table border=\"1\" class=\"dataframe\">\n",
              "  <thead>\n",
              "    <tr style=\"text-align: right;\">\n",
              "      <th></th>\n",
              "      <th>visitNumber</th>\n",
              "      <th>bounces</th>\n",
              "      <th>hits</th>\n",
              "      <th>pageviews</th>\n",
              "      <th>timeOnSite</th>\n",
              "      <th>deviceCategory</th>\n",
              "      <th>bought</th>\n",
              "      <th>channelNew</th>\n",
              "      <th>browserNew</th>\n",
              "      <th>countryNew</th>\n",
              "    </tr>\n",
              "  </thead>\n",
              "  <tbody>\n",
              "    <tr>\n",
              "      <th>8315</th>\n",
              "      <td>2</td>\n",
              "      <td>NaN</td>\n",
              "      <td>1</td>\n",
              "      <td>NaN</td>\n",
              "      <td>NaN</td>\n",
              "      <td>desktop</td>\n",
              "      <td>0</td>\n",
              "      <td>Organic Search</td>\n",
              "      <td>Chrome</td>\n",
              "      <td>United States</td>\n",
              "    </tr>\n",
              "    <tr>\n",
              "      <th>17523</th>\n",
              "      <td>3</td>\n",
              "      <td>NaN</td>\n",
              "      <td>1</td>\n",
              "      <td>NaN</td>\n",
              "      <td>NaN</td>\n",
              "      <td>desktop</td>\n",
              "      <td>0</td>\n",
              "      <td>Referral</td>\n",
              "      <td>Chrome</td>\n",
              "      <td>India</td>\n",
              "    </tr>\n",
              "    <tr>\n",
              "      <th>26247</th>\n",
              "      <td>3</td>\n",
              "      <td>NaN</td>\n",
              "      <td>1</td>\n",
              "      <td>NaN</td>\n",
              "      <td>NaN</td>\n",
              "      <td>desktop</td>\n",
              "      <td>0</td>\n",
              "      <td>Other</td>\n",
              "      <td>Firefox</td>\n",
              "      <td>Other</td>\n",
              "    </tr>\n",
              "    <tr>\n",
              "      <th>50206</th>\n",
              "      <td>2</td>\n",
              "      <td>NaN</td>\n",
              "      <td>1</td>\n",
              "      <td>NaN</td>\n",
              "      <td>NaN</td>\n",
              "      <td>desktop</td>\n",
              "      <td>0</td>\n",
              "      <td>Referral</td>\n",
              "      <td>Chrome</td>\n",
              "      <td>United States</td>\n",
              "    </tr>\n",
              "    <tr>\n",
              "      <th>65382</th>\n",
              "      <td>11</td>\n",
              "      <td>NaN</td>\n",
              "      <td>1</td>\n",
              "      <td>NaN</td>\n",
              "      <td>NaN</td>\n",
              "      <td>desktop</td>\n",
              "      <td>0</td>\n",
              "      <td>Referral</td>\n",
              "      <td>Chrome</td>\n",
              "      <td>United States</td>\n",
              "    </tr>\n",
              "  </tbody>\n",
              "</table>\n",
              "</div>"
            ],
            "text/plain": [
              "       visitNumber  bounces  hits  ...      channelNew  browserNew     countryNew\n",
              "8315             2      NaN     1  ...  Organic Search      Chrome  United States\n",
              "17523            3      NaN     1  ...        Referral      Chrome          India\n",
              "26247            3      NaN     1  ...           Other     Firefox          Other\n",
              "50206            2      NaN     1  ...        Referral      Chrome  United States\n",
              "65382           11      NaN     1  ...        Referral      Chrome  United States\n",
              "\n",
              "[5 rows x 10 columns]"
            ]
          },
          "metadata": {},
          "execution_count": 55
        }
      ]
    },
    {
      "cell_type": "markdown",
      "metadata": {
        "id": "NwB_SHoQMi4i"
      },
      "source": [
        "There are some of data that in the \"bounces\" column has NaN (there were interaction), and both \"pageviews\" and \"timeOnSite\" also has NaN. This rows are eliminated because the lack of information (big amount of NaNs in those rows)."
      ]
    },
    {
      "cell_type": "code",
      "metadata": {
        "colab": {
          "base_uri": "https://localhost:8080/"
        },
        "id": "kIjPMulJMi4i",
        "outputId": "5183fcca-35c1-4389-c108-2353402a90ba"
      },
      "source": [
        "data_nulls = data_droped[~\n",
        "                          (\n",
        "                            data_droped['pageviews'].isnull() & \n",
        "                            data_droped['bounces'].isnull() & \n",
        "                            data_droped['timeOnSite'].isnull()\n",
        "                            )\n",
        "                          ] \\\n",
        "                          .copy()\n",
        "check_nulls(data_nulls)"
      ],
      "execution_count": 56,
      "outputs": [
        {
          "output_type": "stream",
          "name": "stdout",
          "text": [
            "bounces\n",
            "Amount of nulls:196905\n",
            "Percentage of nulls: 0.5011976002178843\n",
            "************\n",
            "pageviews\n",
            "Amount of nulls:13\n",
            "Percentage of nulls: 3.308991037725043e-05\n",
            "************\n",
            "timeOnSite\n",
            "Amount of nulls:196470\n",
            "Percentage of nulls: 0.5000903609091071\n",
            "************\n"
          ]
        }
      ]
    },
    {
      "cell_type": "markdown",
      "metadata": {
        "id": "BCbFl3PTsEGI"
      },
      "source": [
        "The 13 rest rows on pageviews that are null are going to be filled in with 1, when pageviews, bounces and time on site are null. This is because if the user didn't bounce (stayed on the site) but quit very soon, many there are NaNs in pageviees and time on site."
      ]
    },
    {
      "cell_type": "code",
      "metadata": {
        "id": "_-imsM9Ja6qT",
        "colab": {
          "base_uri": "https://localhost:8080/"
        },
        "outputId": "e4909948-3116-47ab-d80c-55fcf3b876f8"
      },
      "source": [
        "data_nulls.loc[\n",
        "                data_nulls['pageviews'].isnull() & \\\n",
        "                data_nulls['bounces'].isnull() & \\\n",
        "                (data_nulls['timeOnSite'].isnull() == False), \n",
        "                'pageviews'] = 1\n",
        "\n",
        "check_nulls(data_nulls)"
      ],
      "execution_count": 57,
      "outputs": [
        {
          "output_type": "stream",
          "name": "stdout",
          "text": [
            "bounces\n",
            "Amount of nulls:196905\n",
            "Percentage of nulls: 0.5011976002178843\n",
            "************\n",
            "timeOnSite\n",
            "Amount of nulls:196470\n",
            "Percentage of nulls: 0.5000903609091071\n",
            "************\n"
          ]
        }
      ]
    },
    {
      "cell_type": "markdown",
      "metadata": {
        "id": "PNZa-WyFMi4i"
      },
      "source": [
        "Similar analysis, there are 507 rows where \"bounces\" is NaN (there were interaction), but the time on site were not register. This data are fill with the mean.\n"
      ]
    },
    {
      "cell_type": "code",
      "metadata": {
        "colab": {
          "base_uri": "https://localhost:8080/"
        },
        "id": "rc16xa9qMi4i",
        "outputId": "e5410840-cd17-4d57-9afd-69cebd4c30f7"
      },
      "source": [
        "time_not_register = data_nulls[\n",
        "                               data_nulls['timeOnSite'].isnull() & \n",
        "                               data_nulls['bounces'].isnull()\n",
        "                               ]\n",
        "\n",
        "print(f'There are {time_not_register.shape[0]} rows where bounces is NaN and also time on site')\n",
        "rows_not_register = data_nulls['timeOnSite'].isnull() & data_nulls['bounces'].isnull()\n",
        "data_nulls.loc[rows_not_register,'timeOnSite'] = data_nulls['timeOnSite'].mean()\n",
        "check_nulls(data_nulls)"
      ],
      "execution_count": 58,
      "outputs": [
        {
          "output_type": "stream",
          "name": "stdout",
          "text": [
            "There are 507 rows where bounces is NaN and also time on site\n",
            "bounces\n",
            "Amount of nulls:196905\n",
            "Percentage of nulls: 0.5011976002178843\n",
            "************\n",
            "timeOnSite\n",
            "Amount of nulls:195963\n",
            "Percentage of nulls: 0.49879985440439434\n",
            "************\n"
          ]
        }
      ]
    },
    {
      "cell_type": "markdown",
      "metadata": {
        "id": "tJ-gr7xdudot"
      },
      "source": [
        "The rest are filled in with 0, because it is assumed that if there weren't a bounce, then there a 0 in that place (there were a 1 if did).\n",
        "\n",
        "Is time on site were not registered, then is 0, and the same for transactions."
      ]
    },
    {
      "cell_type": "code",
      "metadata": {
        "id": "PIFYjeQ9BCmO"
      },
      "source": [
        "data_nulls.loc[data_nulls['bounces'].isnull(), 'bounces'] = 0\n",
        "data_nulls.loc[data_nulls['timeOnSite'].isnull(), 'timeOnSite'] = 0"
      ],
      "execution_count": 59,
      "outputs": []
    },
    {
      "cell_type": "markdown",
      "metadata": {
        "id": "_D4CvolchJ0c"
      },
      "source": [
        "### Correlation Matrix"
      ]
    },
    {
      "cell_type": "code",
      "metadata": {
        "colab": {
          "base_uri": "https://localhost:8080/",
          "height": 444
        },
        "id": "ylSpW-Mngd3p",
        "outputId": "56f87b8c-f172-4bad-9bf2-bab5ef36bd93"
      },
      "source": [
        "correlation = data_nulls.corr()\n",
        "f, ax = plt.subplots(figsize=(10, 7))\n",
        "sns.heatmap(correlation, ax=ax, annot=True)\n",
        "ax.set_title('Correlation matrix')\n",
        "plt.show()"
      ],
      "execution_count": 60,
      "outputs": [
        {
          "output_type": "display_data",
          "data": {
            "image/png": "[encoded data removed]",
            "text/plain": [
              "<Figure size 720x504 with 2 Axes>"
            ]
          },
          "metadata": {
            "needs_background": "light"
          }
        }
      ]
    },
    {
      "cell_type": "markdown",
      "metadata": {
        "id": "9JDLCiIyhOBv"
      },
      "source": [
        "It can be seen that transactions has high correlation with bought, wich is right because there are transactions when the user buys on the site. Also hits and pageviews are high correlated, also making sense because more page  the user sees, more hits it made.\n",
        "\n",
        "Column hit is going to be droped because of this.\n",
        "Column bought is the target variable."
      ]
    },
    {
      "cell_type": "code",
      "metadata": {
        "id": "FxoK6fTWh7Mb"
      },
      "source": [
        "data_clean = data_nulls.drop('hits', axis = 1)"
      ],
      "execution_count": 61,
      "outputs": []
    },
    {
      "cell_type": "markdown",
      "metadata": {
        "id": "eCQDNGmviAoh"
      },
      "source": [
        "### Data split\n",
        "\n",
        "The data is splited in three sets, train, validation, and test."
      ]
    },
    {
      "cell_type": "code",
      "metadata": {
        "colab": {
          "base_uri": "https://localhost:8080/"
        },
        "id": "shmLBnOt5Bik",
        "outputId": "65cfa548-d31b-4841-c2a2-ea1f1e9f06e0"
      },
      "source": [
        "y = data_clean['bought']#Split target y features\n",
        "X = data_clean.drop('bought', axis = 1)\n",
        "columns_names = X.columns\n",
        "numerical = X.select_dtypes(include=['int64', 'float64']).columns\n",
        "print(numerical)\n",
        "categorical = X.select_dtypes(include=['object']).columns\n",
        "print(categorical)\n"
      ],
      "execution_count": 62,
      "outputs": [
        {
          "output_type": "stream",
          "name": "stdout",
          "text": [
            "Index(['visitNumber', 'bounces', 'pageviews', 'timeOnSite'], dtype='object')\n",
            "Index(['deviceCategory', 'channelNew', 'browserNew', 'countryNew'], dtype='object')\n"
          ]
        }
      ]
    },
    {
      "cell_type": "code",
      "metadata": {
        "id": "aBplhaS6rQm7"
      },
      "source": [
        "#train and test split\n",
        "X_trainVal, X_test, y_trainVal, y_test = train_test_split(\n",
        "    X,\n",
        "    y, \n",
        "    test_size = 0.3, \n",
        "    random_state = 42, \n",
        "    stratify = y\n",
        ")\n",
        "X_train, X_val, y_train, y_val = train_test_split(\n",
        "    X_trainVal,\n",
        "    y_trainVal, \n",
        "    test_size = 0.1, \n",
        "    random_state = 42, \n",
        "    stratify = y_trainVal\n",
        ")"
      ],
      "execution_count": 63,
      "outputs": []
    },
    {
      "cell_type": "code",
      "metadata": {
        "id": "XerXqagJ97r9"
      },
      "source": [
        "# Made them dataframes again to use column transformer\n",
        "X_train = pd.DataFrame(X_train, \n",
        "             columns=columns_names)\n",
        "X_val = pd.DataFrame(X_val, \n",
        "             columns=columns_names)\n",
        "X_test = pd.DataFrame(X_test, \n",
        "             columns=columns_names)"
      ],
      "execution_count": 64,
      "outputs": []
    },
    {
      "cell_type": "markdown",
      "metadata": {
        "id": "dkcglQJXjN6W"
      },
      "source": [
        "### Preprocessing\n",
        "Categorical features are encoded with a ordinal encoder, wich puts 0 on the categori with more frequency and 1 to the next and so on.\n",
        "\n",
        "Numerical features are scaled with standar scaler. Media is turn to cero and standard deviation to one."
      ]
    },
    {
      "cell_type": "code",
      "metadata": {
        "colab": {
          "base_uri": "https://localhost:8080/"
        },
        "id": "2nQiB2Cq6JW-",
        "outputId": "2eca92e8-b2e4-487b-fcc3-4e2fcea1c4ae"
      },
      "source": [
        "t = [('cat', OrdinalEncoder(), categorical), ('num', StandardScaler(), numerical)]\n",
        "transformer = ColumnTransformer(transformers=t, remainder='passthrough')\n",
        "transformer.fit(X_train)"
      ],
      "execution_count": 65,
      "outputs": [
        {
          "output_type": "execute_result",
          "data": {
            "text/plain": [
              "ColumnTransformer(remainder='passthrough',\n",
              "                  transformers=[('cat', OrdinalEncoder(),\n",
              "                                 Index(['deviceCategory', 'channelNew', 'browserNew', 'countryNew'], dtype='object')),\n",
              "                                ('num', StandardScaler(),\n",
              "                                 Index(['visitNumber', 'bounces', 'pageviews', 'timeOnSite'], dtype='object'))])"
            ]
          },
          "metadata": {},
          "execution_count": 65
        }
      ]
    },
    {
      "cell_type": "code",
      "metadata": {
        "id": "HgZTKF_66JUv"
      },
      "source": [
        "X_train = transformer.transform(X_train)\n",
        "X_val = transformer.transform(X_val)\n",
        "X_test = transformer.transform(X_test)"
      ],
      "execution_count": 66,
      "outputs": []
    },
    {
      "cell_type": "markdown",
      "metadata": {
        "id": "TrKmRA5gMi4l"
      },
      "source": [
        "# Model\n",
        "This is a problem of skewed data. There are way much more users that didn't buy than that bought. So, this problem is going to be treated as such, the metrics to evaluate are going to be F1-score, precision and recall. This metrics are chosen because the interest is on users that will buy and not, so different strategies con be applied on each one.  Also diferent kind of processes are going to be applied. F1 is a balance between precision and recall, but recall is also important because says is the minority class (pisitive) is being well classified."
      ]
    },
    {
      "cell_type": "code",
      "metadata": {
        "colab": {
          "base_uri": "https://localhost:8080/"
        },
        "id": "f0gHfN_TzSLq",
        "outputId": "1b2bf5f1-8bc3-4531-8a1b-3f800031b961"
      },
      "source": [
        "group_cat(data_clean,'bought')"
      ],
      "execution_count": 67,
      "outputs": [
        {
          "output_type": "stream",
          "name": "stdout",
          "text": [
            "There are 2 different bought.\n",
            "******************************\n",
            "   bought   count  percentage\n",
            "0       0  387592    0.986568\n",
            "1       1    5277    0.013432\n"
          ]
        }
      ]
    },
    {
      "cell_type": "code",
      "metadata": {
        "id": "D3oBkYBesdkY"
      },
      "source": [
        "# Evaluation function\n",
        "# This function will be use every time the model is evaluated.\n",
        "def eval(y_true, y_pred):\n",
        "  precision = precision_score(y_true, y_pred)\n",
        "  recall = recall_score(y_true, y_pred)\n",
        "  f1 = f1_score(y_true, y_pred)\n",
        "  print(f'Precision: {precision}')\n",
        "  print(f'Recall: {recall}')\n",
        "  print(f'F1 Score: {f1}')"
      ],
      "execution_count": 68,
      "outputs": []
    },
    {
      "cell_type": "markdown",
      "metadata": {
        "id": "fSSU4LArlmMR"
      },
      "source": [
        "### Baseline Model\n",
        "\n",
        "Baseline model with the simplest model of all. This will be done with Logistic Regression. For a model to be the best, must be better than this one.\n"
      ]
    },
    {
      "cell_type": "code",
      "metadata": {
        "colab": {
          "base_uri": "https://localhost:8080/",
          "height": 443
        },
        "id": "9INheewDllsd",
        "outputId": "78020f37-f03e-40ea-eabd-ca06b0e29b99"
      },
      "source": [
        "logreg = LogisticRegression(random_state = 42, fit_intercept = True)\n",
        "logreg.fit(X_train, y_train)\n",
        "\n",
        "train_base_predict = logreg.predict(X_train)\n",
        "val_base_predict = logreg.predict(X_val)\n",
        "\n",
        "print('Train Set')\n",
        "eval(y_train, train_base_predict)\n",
        "print('***'*8)\n",
        "print('Validation Set')\n",
        "eval(y_val, val_base_predict)\n",
        "\n",
        "disp = ConfusionMatrixDisplay.from_estimator(\n",
        "    logreg,\n",
        "    X_val,\n",
        "    y_val,\n",
        "    )\n"
      ],
      "execution_count": 69,
      "outputs": [
        {
          "output_type": "stream",
          "name": "stdout",
          "text": [
            "Train Set\n",
            "Precision: 0.45720040281973817\n",
            "Recall: 0.13654135338345866\n",
            "F1 Score: 0.21028253821213527\n",
            "************************\n",
            "Validation Set\n",
            "Precision: 0.49473684210526314\n",
            "Recall: 0.12737127371273713\n",
            "F1 Score: 0.20258620689655174\n"
          ]
        },
        {
          "output_type": "display_data",
          "data": {
            "image/png": "[encoded data removed]",
            "text/plain": [
              "<Figure size 432x288 with 2 Axes>"
            ]
          },
          "metadata": {
            "needs_background": "light"
          }
        }
      ]
    },
    {
      "cell_type": "markdown",
      "metadata": {
        "id": "ZIB_aWuWu_lj"
      },
      "source": [
        "This is a really bad model. The negative class (majority) are being well classified, but the positive class (minority) not."
      ]
    },
    {
      "cell_type": "markdown",
      "metadata": {
        "id": "IxO2DMr_Mi4m"
      },
      "source": [
        "### Weighted Logistic Regression\n",
        "\n",
        "This strategy adds a weight on the classes, so the minority class is more penalized and makes less mistakes."
      ]
    },
    {
      "cell_type": "code",
      "metadata": {
        "colab": {
          "base_uri": "https://localhost:8080/"
        },
        "id": "xxr61QZz1RV0",
        "outputId": "1671d461-98fa-4552-e520-74e0fe1f2232"
      },
      "source": [
        "# Weights for each class\n",
        "weighting = compute_class_weight(\n",
        "    class_weight = \"balanced\", \n",
        "    classes = np.unique(y_train), \n",
        "    y = y_train)\n",
        "print(weighting)\n",
        "class_weights = dict(zip(np.unique(y_train), weighting))\n",
        "class_weights"
      ],
      "execution_count": 70,
      "outputs": [
        {
          "output_type": "stream",
          "name": "stdout",
          "text": [
            "[ 0.50680845 37.21909774]\n"
          ]
        },
        {
          "output_type": "execute_result",
          "data": {
            "text/plain": [
              "{0: 0.5068084461590125, 1: 37.2190977443609}"
            ]
          },
          "metadata": {},
          "execution_count": 70
        }
      ]
    },
    {
      "cell_type": "code",
      "metadata": {
        "colab": {
          "base_uri": "https://localhost:8080/",
          "height": 478
        },
        "id": "hNT_kFqSlmrj",
        "outputId": "e3c62b80-6de9-4049-8cb5-ec7e06c5f596"
      },
      "source": [
        "logreg_weighted = LogisticRegression(fit_intercept = True, class_weight = class_weights)\n",
        "logreg_weighted.fit(X_train,y_train)\n",
        "pred_train_weighted = logreg_weighted.predict(X_train)\n",
        "pred_val_weighted = logreg_weighted.predict(X_val)\n",
        "\n",
        "print('Train Set')\n",
        "eval(y_train, pred_train_weighted)\n",
        "print('***'*8)\n",
        "print('Validation Set')\n",
        "eval(y_val, pred_val_weighted)\n",
        "\n",
        "disp = ConfusionMatrixDisplay.from_estimator(\n",
        "    logreg_weighted, \n",
        "    X_val, \n",
        "    y_val\n",
        ")\n",
        "disp.ax_.set_title('Confusion Matrix')\n"
      ],
      "execution_count": 71,
      "outputs": [
        {
          "output_type": "stream",
          "name": "stdout",
          "text": [
            "Train Set\n",
            "Precision: 0.17608993693446667\n",
            "Recall: 0.9657142857142857\n",
            "F1 Score: 0.29786641929499075\n",
            "************************\n",
            "Validation Set\n",
            "Precision: 0.17536945812807883\n",
            "Recall: 0.964769647696477\n",
            "F1 Score: 0.2967903293038766\n"
          ]
        },
        {
          "output_type": "execute_result",
          "data": {
            "text/plain": [
              "Text(0.5, 1.0, 'Confusion Matrix')"
            ]
          },
          "metadata": {},
          "execution_count": 71
        },
        {
          "output_type": "display_data",
          "data": {
            "image/png": "[encoded data removed]",
            "text/plain": [
              "<Figure size 432x288 with 2 Axes>"
            ]
          },
          "metadata": {
            "needs_background": "light"
          }
        }
      ]
    },
    {
      "cell_type": "markdown",
      "metadata": {
        "id": "tnQMR8Rpvz2o"
      },
      "source": [
        "In this model, although there are lots of correct minority class, the amount of false positives is too hight, so F1 score gets to be low."
      ]
    },
    {
      "cell_type": "markdown",
      "metadata": {
        "id": "FpD8VE1jwH6Q"
      },
      "source": [
        "### Another Weighted Logistic Regression\n",
        "\n",
        "In this case, weights are choosen manually."
      ]
    },
    {
      "cell_type": "code",
      "metadata": {
        "colab": {
          "base_uri": "https://localhost:8080/",
          "height": 478
        },
        "id": "4P4g6fWOrPti",
        "outputId": "2043d277-69fb-4234-80a6-8cb879d829d5"
      },
      "source": [
        "class_weights = {0:1 , 1:20}\n",
        "logreg_weighted = LogisticRegression(fit_intercept = True, class_weight = class_weights)\n",
        "logreg_weighted.fit(X_train,y_train)\n",
        "pred_train_weighted = logreg_weighted.predict(X_train)\n",
        "pred_val_weighted = logreg_weighted.predict(X_val)\n",
        "\n",
        "print('Train Set')\n",
        "eval(y_train, pred_train_weighted)\n",
        "print('***'*8)\n",
        "print('Validation Set')\n",
        "eval(y_val, pred_val_weighted)\n",
        "\n",
        "disp = ConfusionMatrixDisplay.from_estimator(\n",
        "    logreg_weighted, \n",
        "    X_val, \n",
        "    y_val\n",
        ")\n",
        "disp.ax_.set_title('Confusion Matrix')"
      ],
      "execution_count": 72,
      "outputs": [
        {
          "output_type": "stream",
          "name": "stdout",
          "text": [
            "Train Set\n",
            "Precision: 0.26724975704567544\n",
            "Recall: 0.8270676691729323\n",
            "F1 Score: 0.4039662137348513\n",
            "************************\n",
            "Validation Set\n",
            "Precision: 0.26229508196721313\n",
            "Recall: 0.8238482384823849\n",
            "F1 Score: 0.3979057591623037\n"
          ]
        },
        {
          "output_type": "execute_result",
          "data": {
            "text/plain": [
              "Text(0.5, 1.0, 'Confusion Matrix')"
            ]
          },
          "metadata": {},
          "execution_count": 72
        },
        {
          "output_type": "display_data",
          "data": {
            "image/png": "[encoded data removed]",
            "text/plain": [
              "<Figure size 432x288 with 2 Axes>"
            ]
          },
          "metadata": {
            "needs_background": "light"
          }
        }
      ]
    },
    {
      "cell_type": "markdown",
      "metadata": {
        "id": "CW-qZN6ixaCX"
      },
      "source": [
        "The F1 score es a little bit higher because there are less false positives. But false negatives are more than in the last model, causing precision to decrease. "
      ]
    },
    {
      "cell_type": "markdown",
      "metadata": {
        "id": "A1tJxOPoyW6i"
      },
      "source": [
        "## Undersampling\n",
        "\n",
        "In this part of the study, the imbalance class problem is going to be mitigated by applying the undersampling strategy.\n"
      ]
    },
    {
      "cell_type": "code",
      "metadata": {
        "colab": {
          "base_uri": "https://localhost:8080/"
        },
        "id": "Mn2EtgdXy9bI",
        "outputId": "2af30779-2251-4aa9-e21c-5fa917522989"
      },
      "source": [
        "strategy = 0.2\n",
        "undersampler = RandomUnderSampler(sampling_strategy = strategy, \n",
        "                                  random_state = 42\n",
        "                                  )\n",
        "X_train_under, y_train_under = undersampler.fit_resample(X_train, y_train)\n",
        "label, num = np.unique(y_train_under, return_counts = True)\n",
        "print(label)\n",
        "print(num)"
      ],
      "execution_count": 73,
      "outputs": [
        {
          "output_type": "stream",
          "name": "stdout",
          "text": [
            "[0 1]\n",
            "[16625  3325]\n"
          ]
        }
      ]
    },
    {
      "cell_type": "markdown",
      "metadata": {
        "id": "wSSD_i46yf8t"
      },
      "source": [
        "### Logistic Regression"
      ]
    },
    {
      "cell_type": "code",
      "metadata": {
        "colab": {
          "base_uri": "https://localhost:8080/",
          "height": 478
        },
        "id": "V8eUZzQFz1RM",
        "outputId": "87028f25-12fa-43e6-f412-face084c3fca"
      },
      "source": [
        "logreg_under = LogisticRegression(fit_intercept = True)\n",
        "logreg_under.fit(X_train_under,y_train_under)\n",
        "pred_train_under = logreg_under.predict(X_train_under)\n",
        "pred_val_under = logreg_under.predict(X_val)\n",
        "\n",
        "print('Train Set')\n",
        "eval(y_train_under, pred_train_under)\n",
        "print('***'*8)\n",
        "print('Validation Set')\n",
        "eval(y_val, pred_val_under)\n",
        "\n",
        "disp = ConfusionMatrixDisplay.from_estimator(\n",
        "    logreg_under, \n",
        "    X_val, \n",
        "    y_val\n",
        ")\n",
        "disp.ax_.set_title('Confusion Matrix')"
      ],
      "execution_count": 74,
      "outputs": [
        {
          "output_type": "stream",
          "name": "stdout",
          "text": [
            "Train Set\n",
            "Precision: 0.8575215374420145\n",
            "Recall: 0.7783458646616541\n",
            "F1 Score: 0.8160176572599716\n",
            "************************\n",
            "Validation Set\n",
            "Precision: 0.27586206896551724\n",
            "Recall: 0.7371273712737128\n",
            "F1 Score: 0.40147601476014755\n"
          ]
        },
        {
          "output_type": "execute_result",
          "data": {
            "text/plain": [
              "Text(0.5, 1.0, 'Confusion Matrix')"
            ]
          },
          "metadata": {},
          "execution_count": 74
        },
        {
          "output_type": "display_data",
          "data": {
            "image/png": "[encoded data removed]",
            "text/plain": [
              "<Figure size 432x288 with 2 Axes>"
            ]
          },
          "metadata": {
            "needs_background": "light"
          }
        }
      ]
    },
    {
      "cell_type": "markdown",
      "metadata": {
        "id": "g_0PX0Ct15qy"
      },
      "source": [
        "Metrics in train set are good, but when testing on validation dataset they get bad. This is overfitting. We try to solve it whit reguralization on the logistic regression."
      ]
    },
    {
      "cell_type": "code",
      "metadata": {
        "colab": {
          "base_uri": "https://localhost:8080/",
          "height": 478
        },
        "id": "AcFz3pqyrPq9",
        "outputId": "fdcdb1b9-f1e9-4996-c0af-e2a1ce899c47"
      },
      "source": [
        "logreg_reg = LogisticRegression(fit_intercept = True,\n",
        "                                random_state = 42,\n",
        "                                C = 0.01)\n",
        "logreg_reg.fit(X_train_under,y_train_under)\n",
        "pred_train_reg = logreg_reg.predict(X_train_under)\n",
        "pred_val_reg = logreg_reg.predict(X_val)\n",
        "\n",
        "print('Train Set')\n",
        "eval(y_train_under, pred_train_reg)\n",
        "print('***'*8)\n",
        "print('Validation Set')\n",
        "eval(y_val, pred_val_reg)\n",
        "\n",
        "disp = ConfusionMatrixDisplay.from_estimator(\n",
        "    logreg_reg, \n",
        "    X_val, \n",
        "    y_val\n",
        ")\n",
        "disp.ax_.set_title('Confusion Matrix')"
      ],
      "execution_count": 75,
      "outputs": [
        {
          "output_type": "stream",
          "name": "stdout",
          "text": [
            "Train Set\n",
            "Precision: 0.8613691090471276\n",
            "Recall: 0.7530827067669172\n",
            "F1 Score: 0.8035943517329909\n",
            "************************\n",
            "Validation Set\n",
            "Precision: 0.27471383975026015\n",
            "Recall: 0.7154471544715447\n",
            "F1 Score: 0.39699248120300756\n"
          ]
        },
        {
          "output_type": "execute_result",
          "data": {
            "text/plain": [
              "Text(0.5, 1.0, 'Confusion Matrix')"
            ]
          },
          "metadata": {},
          "execution_count": 75
        },
        {
          "output_type": "display_data",
          "data": {
            "image/png": "[encoded data removed]",
            "text/plain": [
              "<Figure size 432x288 with 2 Axes>"
            ]
          },
          "metadata": {
            "needs_background": "light"
          }
        }
      ]
    },
    {
      "cell_type": "markdown",
      "metadata": {
        "id": "_m1e4JKi5o_l"
      },
      "source": [
        "Logistic regression doesn't seems to get better. Another algorithm is tested."
      ]
    },
    {
      "cell_type": "markdown",
      "metadata": {
        "id": "VgdePOol5x_L"
      },
      "source": [
        "### Gradient Boosted Trees\n"
      ]
    },
    {
      "cell_type": "code",
      "metadata": {
        "colab": {
          "base_uri": "https://localhost:8080/",
          "height": 478
        },
        "id": "TNdBBq23rPol",
        "outputId": "a1463d65-0b81-4a8a-b11c-30f64f5e8450"
      },
      "source": [
        "gbt = GradientBoostingClassifier(random_state = 42, \n",
        "                                 n_estimators = 100, \n",
        "                                 max_depth = 3)\n",
        "gbt.fit(X_train_under, y_train_under)\n",
        "pred_train_gbt_under = gbt.predict(X_train_under)\n",
        "pred_val_gbt_under = gbt.predict(X_val)\n",
        "print('Train Set')\n",
        "eval(y_train_under, pred_train_gbt_under)\n",
        "print('***'*8)\n",
        "print('Validation Set')\n",
        "eval(y_val, pred_val_gbt_under)\n",
        "\n",
        "disp = ConfusionMatrixDisplay.from_estimator(\n",
        "    gbt, \n",
        "    X_val, \n",
        "    y_val\n",
        ")\n",
        "disp.ax_.set_title('Confusion Matrix')"
      ],
      "execution_count": 76,
      "outputs": [
        {
          "output_type": "stream",
          "name": "stdout",
          "text": [
            "Train Set\n",
            "Precision: 0.859139183901621\n",
            "Recall: 0.9245112781954887\n",
            "F1 Score: 0.8906272635086194\n",
            "************************\n",
            "Validation Set\n",
            "Precision: 0.27887788778877887\n",
            "Recall: 0.9159891598915989\n",
            "F1 Score: 0.4275774826059456\n"
          ]
        },
        {
          "output_type": "execute_result",
          "data": {
            "text/plain": [
              "Text(0.5, 1.0, 'Confusion Matrix')"
            ]
          },
          "metadata": {},
          "execution_count": 76
        },
        {
          "output_type": "display_data",
          "data": {
            "image/png": "[encoded data removed]",
            "text/plain": [
              "<Figure size 432x288 with 2 Axes>"
            ]
          },
          "metadata": {
            "needs_background": "light"
          }
        }
      ]
    },
    {
      "cell_type": "markdown",
      "metadata": {
        "id": "Ju8oMqsF7Tcq"
      },
      "source": [
        "As far, this is the best model, but not good enough.\n",
        "Lets try another technic to mitigate imbalanced classes."
      ]
    },
    {
      "cell_type": "markdown",
      "metadata": {
        "id": "yGpv1rah75pf"
      },
      "source": [
        "## SMOTE\n",
        "\n",
        "SMOTE algorith creates similar samples on the minority class, to reduce de imbalance if the problem."
      ]
    },
    {
      "cell_type": "code",
      "metadata": {
        "colab": {
          "base_uri": "https://localhost:8080/"
        },
        "id": "zDZLZqx7rPlV",
        "outputId": "57338647-020b-41c1-faf3-f7835f65d3df"
      },
      "source": [
        "strategy = 0.2\n",
        "oversample = SMOTE(sampling_strategy = strategy, \n",
        "                   random_state = 42\n",
        "                   )\n",
        "X_train_SMOTE, y_train_SMOTE = oversample.fit_resample(X_train, y_train)\n",
        "label, number = np.unique(y_train_SMOTE, return_counts = True)\n",
        "print(label)\n",
        "print(number)"
      ],
      "execution_count": 77,
      "outputs": [
        {
          "output_type": "stream",
          "name": "stdout",
          "text": [
            "[0 1]\n",
            "[244182  48836]\n"
          ]
        }
      ]
    },
    {
      "cell_type": "code",
      "metadata": {
        "colab": {
          "base_uri": "https://localhost:8080/",
          "height": 478
        },
        "id": "b8ynAGG-rPig",
        "outputId": "ca1d156b-5813-4724-9270-ab216b816930"
      },
      "source": [
        "gbt_smote = GradientBoostingClassifier(random_state = 42, \n",
        "                                 n_estimators = 100, \n",
        "                                 max_depth = 3\n",
        "                                 )\n",
        "gbt_smote.fit(X_train_SMOTE, y_train_SMOTE)\n",
        "pred_train_gbt_SMOTE = gbt_smote.predict(X_train_SMOTE)\n",
        "pred_val_gbt_SMOTE = gbt_smote.predict(X_val)\n",
        "print('Train Set')\n",
        "eval(y_train_SMOTE, pred_train_gbt_SMOTE)\n",
        "print('***'*8)\n",
        "print('Validation Set')\n",
        "eval(y_val, pred_val_gbt_SMOTE)\n",
        "\n",
        "disp = ConfusionMatrixDisplay.from_estimator(\n",
        "    gbt_smote, \n",
        "    X_val, \n",
        "    y_val\n",
        ")\n",
        "disp.ax_.set_title('Confusion Matrix')"
      ],
      "execution_count": 78,
      "outputs": [
        {
          "output_type": "stream",
          "name": "stdout",
          "text": [
            "Train Set\n",
            "Precision: 0.8805130045520654\n",
            "Recall: 0.9545622082070604\n",
            "F1 Score: 0.9160435846294424\n",
            "************************\n",
            "Validation Set\n",
            "Precision: 0.3176823176823177\n",
            "Recall: 0.8617886178861789\n",
            "F1 Score: 0.4642335766423358\n"
          ]
        },
        {
          "output_type": "execute_result",
          "data": {
            "text/plain": [
              "Text(0.5, 1.0, 'Confusion Matrix')"
            ]
          },
          "metadata": {},
          "execution_count": 78
        },
        {
          "output_type": "display_data",
          "data": {
            "image/png": "[encoded data removed]",
            "text/plain": [
              "<Figure size 432x288 with 2 Axes>"
            ]
          },
          "metadata": {
            "needs_background": "light"
          }
        }
      ]
    },
    {
      "cell_type": "markdown",
      "metadata": {
        "id": "RFBQNhMowcZJ"
      },
      "source": [
        "This is the best model so far. Precision in validation set is still low, because there are a lot of false positives. But, the F1 score is the higher.\n",
        "\n",
        "To see how this model behaves with totally new data, it is evaluated on the test set."
      ]
    },
    {
      "cell_type": "code",
      "metadata": {
        "colab": {
          "base_uri": "https://localhost:8080/"
        },
        "id": "RnVmRNFV9bTh",
        "outputId": "85357f1a-1752-4467-8001-7c3876700896"
      },
      "source": [
        "pred_test_gbt_SMOTE = gbt_smote.predict(X_test)\n",
        "print('Test Set')\n",
        "eval(y_test, pred_test_gbt_SMOTE)"
      ],
      "execution_count": 79,
      "outputs": [
        {
          "output_type": "stream",
          "name": "stdout",
          "text": [
            "Test Set\n",
            "Precision: 0.31520507591207797\n",
            "Recall: 0.8787113076437144\n",
            "F1 Score: 0.46397598398932616\n"
          ]
        }
      ]
    },
    {
      "cell_type": "code",
      "metadata": {
        "colab": {
          "base_uri": "https://localhost:8080/",
          "height": 314
        },
        "id": "fPxbO5Rhcnz4",
        "outputId": "ad67ebec-854a-4a2e-b451-22031036c544"
      },
      "source": [
        "disp = ConfusionMatrixDisplay.from_estimator(\n",
        "    gbt_smote, \n",
        "    X_test, \n",
        "    y_test\n",
        ")\n",
        "disp.ax_.set_title('Confusion Matrix')"
      ],
      "execution_count": 80,
      "outputs": [
        {
          "output_type": "execute_result",
          "data": {
            "text/plain": [
              "Text(0.5, 1.0, 'Confusion Matrix')"
            ]
          },
          "metadata": {},
          "execution_count": 80
        },
        {
          "output_type": "display_data",
          "data": {
            "image/png": "[encoded data removed]",
            "text/plain": [
              "<Figure size 432x288 with 2 Axes>"
            ]
          },
          "metadata": {
            "needs_background": "light"
          }
        }
      ]
    },
    {
      "cell_type": "markdown",
      "metadata": {
        "id": "bcAYS4mYctMu"
      },
      "source": [
        "# Conclusions\n",
        "\n",
        "In this study a classification model to predict wich users are going to buy or not on the site with google analytics dataset where made. This is an unbalanced classification model, because only 0.01% of the samples are the positive class (user that made a transaction on the site).\n",
        "\n",
        "An exporatory data analysis where made on the dataset, seeing that most buyers where the ones that expend more time on the site, made more hits... In general, the ones that made more interaction and also the ones that where a little beyond the majority of the samples where the ones that bought on the site.\n",
        "\n",
        "A baseline model with a Logistic Regresion algorithm were made, with this metrics on the validation dataset:\n",
        "\n",
        "Precision: 0.4947\n",
        "\n",
        "Recall: 0.1273\n",
        "\n",
        "F1 Score: 0.2025\n",
        "\n",
        "Recall is the most important metric, because we want the best amount of true positives possible. But also precision can't be very low, because that would mean than there were many false positives.\n",
        "\n",
        "Lots of algoritms where tested for this problem and technics for reducing the imbalance problem where implemented, being SMOTE the best of all.\n",
        "The best model was a Gradient Boosted Trees algorithm with the SMOTE approach. The metrics for this solution on the validation set were:\n",
        "\n",
        "Precision: 0.3176\n",
        "\n",
        "Recall: 0.8617\n",
        "\n",
        "F1 Score: 0.4642\n",
        "\n",
        "Although precision is a little bit smaller, recall and f1 score are way greater tan the baseline model, wich means that in this last model more minority class were well classified, not making too much difference in the majority class.\n",
        "\n",
        "The metrics for this model on the test set were very similar, so we conclude this model would behave well with new unseen data.\n"
      ]
    }
  ]
}